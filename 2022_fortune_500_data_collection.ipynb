{
  "cells": [
    {
      "cell_type": "markdown",
      "metadata": {
        "id": "3pHsFMHUNmnw"
      },
      "source": [
        "# Fortune 500 Data Collection\n",
        "\n"
      ]
    },
    {
      "cell_type": "markdown",
      "metadata": {
        "id": "6CELR5M9Nmnz"
      },
      "source": [
        "## Overview\n",
        "\n",
        "The notebook is broken down as follows:\n",
        "1.  **Network Analysis**\n",
        "    * Explore the network and data requests used to render our webpage\n",
        "    * Call the API that supplies the data for the company table   \n",
        "2.  **JSON Data**\n",
        "    * Parse the JSON response from the API and select the data we want\n",
        "    * Create a dataframe and organize data  \n",
        "3.  **Scraping URLs**\n",
        "    * Crawl all the individual company Fortune webpages\n",
        "    * Find the html that contains the data we want and extract it\n",
        "    * Scrape our data and create a dataframe   \n",
        "4.  **Joining and Sorting Data**\n",
        "    * Join our two datasets and sort the rows  \n",
        "5.  **Conclusion**\n",
        "    * Convert dataframe to csv file"
      ]
    },
    {
      "cell_type": "markdown",
      "metadata": {
        "id": "0xzxZLhoNmnz"
      },
      "source": [
        "# 1. Network Analysis"
      ]
    },
    {
      "cell_type": "markdown",
      "metadata": {
        "id": "PdH8vImBNmnz"
      },
      "source": [
        "I want to create a dataset of all the companies in the Fortune 500 with some specific information about each. I figure the best way to do that is to go to the actual Fortune Magazine website. \n",
        "\n",
        "I planned on scraping information from the list of companies, but unfortunately this is a webpage heavy with javascript where the list changes without reloading the page. This prevents me from just scraping all the list contents direcly from the html. \n"
      ]
    },
    {
      "cell_type": "markdown",
      "metadata": {
        "id": "q7rrMkCGNmn0"
      },
      "source": [
        "Since traditional web scraping won't work, I suspect there is another source producing the information on this web page. It is likely an API that my browser is calling to get some sort of JSON response and render the information on the page. So I decided to try to find the API that responds with the company data listed in this table. \n",
        "\n",
        "To do this we need to right-click on the web page and select \"inspect\", which will pull up the developer window on our webpage. Then go to the network tab, which will look something like this:"
      ]
    },
    {
      "cell_type": "code",
      "execution_count": null,
      "metadata": {
        "colab": {
          "base_uri": "https://localhost:8080/"
        },
        "id": "JHK_5g4lNmn0",
        "outputId": "6968bd57-dd85-440a-f149-0d9d628819fa"
      },
      "outputs": [
        {
          "output_type": "stream",
          "name": "stdout",
          "text": [
            "Looking in indexes: https://pypi.org/simple, https://us-python.pkg.dev/colab-wheels/public/simple/\n",
            "Requirement already satisfied: bs4 in /usr/local/lib/python3.8/dist-packages (0.0.1)\n",
            "Requirement already satisfied: beautifulsoup4 in /usr/local/lib/python3.8/dist-packages (from bs4) (4.6.3)\n"
          ]
        }
      ],
      "source": [
        "!pip install bs4\n",
        "import os\n",
        "import time\n",
        "import sys\n",
        "import numpy as np\n",
        "import pandas as pd\n",
        "import regex as re\n",
        "import lxml\n",
        "import numbers\n",
        "from bs4 import BeautifulSoup\n",
        "import requests\n",
        "import json\n",
        "import numpy as np\n",
        "import pandas as pd\n",
        "import matplotlib.pyplot as plt\n",
        "import seaborn as sns\n",
        "from collections import defaultdict\n",
        "\n",
        "req_headers = {\n",
        "    'accept': 'text/html,application/xhtml+xml,application/xml;q=0.9,image/webp,image/apng,*/*;q=0.8',\n",
        "    'accept-encoding': 'gzip, deflate, br',\n",
        "    'accept-language': 'en-US,en;q=0.8',\n",
        "    'upgrade-insecure-requests': '1',\n",
        "    'user-agent': 'Mozilla/5.0 (Windows NT 10.0; Win64; x64) AppleWebKit/537.36 (KHTML, like Gecko) Chrome/61.0.3163.100 Safari/537.36'\n",
        "}"
      ]
    },
    {
      "cell_type": "markdown",
      "metadata": {
        "id": "j5FJlqhwNmn2"
      },
      "source": [
        "We want to look at the XHR responses in the network tab and try to find any response from a url name that mentions \"fortune\" or \"lists\". We poke around a little and find a GET request to the url below that provides us with a JSON repsone. "
      ]
    },
    {
      "cell_type": "code",
      "execution_count": null,
      "metadata": {
        "id": "BEOY_XawNmn2"
      },
      "outputs": [],
      "source": [
        "page_url = 'https://content.fortune.com/wp-json/irving/v1/data/franchise-search-results?list_id=3287962&token=Zm9ydHVuZTpCcHNyZmtNZCN5SndjWkkhNHFqMndEOTM='"
      ]
    },
    {
      "cell_type": "markdown",
      "metadata": {
        "id": "jVirNP_kNmn2"
      },
      "source": [
        "We send a request to the url and it provides us with a JSON response that contains all sorts of data on each company in the list! "
      ]
    },
    {
      "cell_type": "code",
      "execution_count": null,
      "metadata": {
        "colab": {
          "base_uri": "https://localhost:8080/"
        },
        "id": "TF0yLiJONmn2",
        "outputId": "9a976a1e-9835-4cb5-80cc-d5722c1a9619"
      },
      "outputs": [
        {
          "output_type": "stream",
          "name": "stdout",
          "text": [
            "2\n"
          ]
        }
      ],
      "source": [
        "# request the URL and parse the JSON\n",
        "response = requests.get(page_url)\n",
        "response.raise_for_status() # raise exception if invalid response\n",
        "comps = response.json()\n",
        "print(len(comps))"
      ]
    },
    {
      "cell_type": "markdown",
      "metadata": {
        "id": "MAR5mhklNmn3"
      },
      "source": [
        "**Now we can begine exploring and parsing the data we want.** \n",
        "\n",
        "- Above we see what we actually got back from our request was a list that contained 2 items.\n",
        "\n",
        "- The second item in the list contains the data we want so we call that one."
      ]
    },
    {
      "cell_type": "code",
      "execution_count": null,
      "metadata": {
        "colab": {
          "base_uri": "https://localhost:8080/"
        },
        "id": "lMq7TDguNmn3",
        "outputId": "a593aece-3cd4-46a4-b9ab-a8ab6cc9d4c6"
      },
      "outputs": [
        {
          "output_type": "stream",
          "name": "stdout",
          "text": [
            "2\n"
          ]
        }
      ],
      "source": [
        "comp = comps[1]\n",
        "print(len(comp))"
      ]
    },
    {
      "cell_type": "markdown",
      "metadata": {
        "id": "P1tueSeoNmn3"
      },
      "source": [
        "Let's see if we can get a better view of the json data for this company."
      ]
    },
    {
      "cell_type": "code",
      "execution_count": null,
      "metadata": {
        "colab": {
          "base_uri": "https://localhost:8080/"
        },
        "id": "tY4VOg4DNmn3",
        "outputId": "e7e2076d-d7f9-4fd9-914c-8bce5ae5607f"
      },
      "outputs": [
        {
          "output_type": "stream",
          "name": "stdout",
          "text": [
            "{\n",
            "     \"items\": [\n",
            "          {\n",
            "               \"fields\": [\n",
            "                    {\n",
            "                         \"key\": \"rank\",\n",
            "                         \"value\": \"225\"\n",
            "                    },\n",
            "                    {\n",
            "                         \"key\": \"f500_revenues\",\n",
            "                         \"value\": \"16523.5\"\n",
            "                    },\n",
            "                    {\n",
            "                         \"key\": \"revchange\",\n",
            "                         \"value\": \"72.4\"\n",
            "                    },\n",
            "                    {\n",
            "                         \"key\": \"f500_profits\",\n",
            "                         \"value\": \"1415.5\"\n",
            "                    },\n",
            "                    {\n",
            "                         \"key\": \"prftchange\",\n",
            "                         \"value\": \"103.3\"\n",
            "                    },\n",
            "                    {\n",
            "                         \"key\": \"assets\",\n",
            "                         \"value\": \"7609.9\"\n",
            "                    },\n",
            "                    {\n",
            "                         \"key\": \"f500_mktval\",\n",
            "                         \"value\": \"17268.8\"\n",
            "                    },\n",
            "              \n"
          ]
        }
      ],
      "source": [
        "# prettify json\n",
        "format_json = json.dumps(comp, sort_keys=True, indent=5)\n",
        "print(format_json[:1000])"
      ]
    },
    {
      "cell_type": "markdown",
      "metadata": {
        "id": "aHoVqml6Nmn3"
      },
      "source": [
        "Our comp (companies) variable contains a list of dictionaries for each company. Each company has two parts: 1) a list of dictionaries which contain information about the company, and 2) a dictionary with a link to the company's Fortune page. \n",
        "\n"
      ]
    },
    {
      "cell_type": "markdown",
      "metadata": {
        "id": "IejaX5IjNmn3"
      },
      "source": [
        "### Let's give an example of one of the companies below"
      ]
    },
    {
      "cell_type": "code",
      "execution_count": null,
      "metadata": {
        "colab": {
          "base_uri": "https://localhost:8080/"
        },
        "id": "RpuWC_cqNmn4",
        "outputId": "4ba9830b-674a-4275-aa19-d5afc0e5d642"
      },
      "outputs": [
        {
          "output_type": "stream",
          "name": "stdout",
          "text": [
            "{'fields': [{'key': 'rank', 'value': '124'}, {'key': 'f500_revenues', 'value': '27774.2'}, {'key': 'revchange', 'value': '36.7'}, {'key': 'f500_profits', 'value': '4175.8'}, {'key': 'prftchange', 'value': '75.9'}, {'key': 'assets', 'value': '24015.9'}, {'key': 'f500_mktval', 'value': '26403.2'}, {'key': 'rankchange1000', 'value': '24'}, {'key': 'f500_employees', 'value': '11788'}, {'key': 'rankchange', 'value': '24'}, {'key': 'name', 'value': 'D.R. Horton'}, {'key': 'sector', 'value': 'Engineering & Construction'}, {'key': 'f500_industry', 'value': 'Homebuilders'}, {'key': 'hqcity', 'value': 'Arlington'}, {'key': 'hqstate', 'value': 'TX'}, {'key': 'rankgain', 'value': 'yes'}, {'key': 'rankdrop', 'value': 'no'}, {'key': 'newcomer', 'value': 'no'}, {'key': 'profitable', 'value': 'yes'}, {'key': 'ceofounder', 'value': 'no'}, {'key': 'ceowoman', 'value': 'no'}, {'key': 'jobgrowth', 'value': 'yes'}, {'key': 'global500-y-n', 'value': 'no'}, {'key': 'best-companies-y-n', 'value': 'no'}, {'fieldMeta': {'title': 'Company', 'type': 'Text', 'importField': 'title', 'order': 'desc'}, 'key': 'title', 'value': 'D.R. Horton'}], 'permalink': 'https://fortune.com/company/d-r-horton/fortune500/'}\n"
          ]
        }
      ],
      "source": [
        "# select the third company\n",
        "n_comp = comp['items'][2]\n",
        "print(n_comp)"
      ]
    },
    {
      "cell_type": "markdown",
      "metadata": {
        "id": "G7Pmo5vzNmn4"
      },
      "source": [
        "The third company in the list is Xcel Energy and it's dictionary has two parts:\n",
        "\n",
        "1. A \"fields\" dictionary\n",
        "2. A \"permalink\" dictionary"
      ]
    },
    {
      "cell_type": "code",
      "execution_count": null,
      "metadata": {
        "colab": {
          "base_uri": "https://localhost:8080/"
        },
        "id": "7HM6Ckj5Nmn4",
        "outputId": "8c14780a-3fcd-4492-978a-5c6ab78a4fac"
      },
      "outputs": [
        {
          "output_type": "execute_result",
          "data": {
            "text/plain": [
              "dict_keys(['fields', 'permalink'])"
            ]
          },
          "metadata": {},
          "execution_count": 43
        }
      ],
      "source": [
        "n_comp.keys()"
      ]
    },
    {
      "cell_type": "markdown",
      "metadata": {
        "id": "Mq478y6tNmn4"
      },
      "source": [
        "The permalink dictionary returns a link to the company's Fortune webpage."
      ]
    },
    {
      "cell_type": "code",
      "execution_count": null,
      "metadata": {
        "colab": {
          "base_uri": "https://localhost:8080/"
        },
        "id": "wadu0SU1Nmn5",
        "outputId": "47a4ec4c-6ff4-4a4a-c1a9-965ae947ba75"
      },
      "outputs": [
        {
          "output_type": "stream",
          "name": "stdout",
          "text": [
            "https://fortune.com/company/d-r-horton/fortune500/\n"
          ]
        }
      ],
      "source": [
        "new_comp = n_comp['permalink']\n",
        "print(new_comp)"
      ]
    },
    {
      "cell_type": "markdown",
      "metadata": {
        "id": "LcKuH-rlNmn5"
      },
      "source": [
        "The \"fields\" dictionary returns a list of other dictionaries containing items which populate the main Fortune web page. "
      ]
    },
    {
      "cell_type": "code",
      "execution_count": null,
      "metadata": {
        "colab": {
          "base_uri": "https://localhost:8080/"
        },
        "id": "VJW9qDvhNmn5",
        "outputId": "9c558d18-aba4-43cd-da8b-16d8b1473a07"
      },
      "outputs": [
        {
          "output_type": "stream",
          "name": "stdout",
          "text": [
            "[{'key': 'rank', 'value': '124'}, {'key': 'f500_revenues', 'value': '27774.2'}, {'key': 'revchange', 'value': '36.7'}, {'key': 'f500_profits', 'value': '4175.8'}, {'key': 'prftchange', 'value': '75.9'}, {'key': 'assets', 'value': '24015.9'}, {'key': 'f500_mktval', 'value': '26403.2'}, {'key': 'rankchange1000', 'value': '24'}, {'key': 'f500_employees', 'value': '11788'}, {'key': 'rankchange', 'value': '24'}, {'key': 'name', 'value': 'D.R. Horton'}, {'key': 'sector', 'value': 'Engineering & Construction'}, {'key': 'f500_industry', 'value': 'Homebuilders'}, {'key': 'hqcity', 'value': 'Arlington'}, {'key': 'hqstate', 'value': 'TX'}, {'key': 'rankgain', 'value': 'yes'}, {'key': 'rankdrop', 'value': 'no'}, {'key': 'newcomer', 'value': 'no'}, {'key': 'profitable', 'value': 'yes'}, {'key': 'ceofounder', 'value': 'no'}, {'key': 'ceowoman', 'value': 'no'}, {'key': 'jobgrowth', 'value': 'yes'}, {'key': 'global500-y-n', 'value': 'no'}, {'key': 'best-companies-y-n', 'value': 'no'}, {'fieldMeta': {'title': 'Company', 'type': 'Text', 'importField': 'title', 'order': 'desc'}, 'key': 'title', 'value': 'D.R. Horton'}]\n"
          ]
        }
      ],
      "source": [
        "my_comp = n_comp['fields']\n",
        "print(my_comp)"
      ]
    },
    {
      "cell_type": "markdown",
      "metadata": {
        "id": "ay6Eajw6Nmn5"
      },
      "source": [
        "# 2. JSON Data"
      ]
    },
    {
      "cell_type": "markdown",
      "metadata": {
        "id": "M05eoiCKNmn5"
      },
      "source": [
        "Now that we know how our dataset looks, we're going to select info about each company it contains. \n",
        "\n",
        "First, grab all of the \"field\" dictionaries from comp dataset and put them in list. "
      ]
    },
    {
      "cell_type": "code",
      "execution_count": null,
      "metadata": {
        "colab": {
          "base_uri": "https://localhost:8080/"
        },
        "id": "R_ZnjTKLNmn5",
        "outputId": "ff4eb09f-fbdd-42bd-97ea-826862a2e127"
      },
      "outputs": [
        {
          "output_type": "stream",
          "name": "stdout",
          "text": [
            "1000\n"
          ]
        }
      ],
      "source": [
        "fields = []\n",
        "\n",
        "for j in comp['items']:\n",
        "    \n",
        "    #for key, value in comp:\n",
        "    field = j['fields']\n",
        "    fields.append(field)\n",
        "        \n",
        "print(len(fields))"
      ]
    },
    {
      "cell_type": "markdown",
      "metadata": {
        "id": "IOqqBL9sNmn6"
      },
      "source": [
        "There are 1000 companies in this list."
      ]
    },
    {
      "cell_type": "markdown",
      "metadata": {
        "id": "wZPonnMnNmn6"
      },
      "source": [
        "### DataFrame\n",
        "\n",
        "Now we're going to pull the data we want from each company's dictionary and put it into a dataframe. "
      ]
    },
    {
      "cell_type": "markdown",
      "metadata": {
        "id": "u33BtxQhNmn6"
      },
      "source": [
        "Create a dataframe and select the features we want from the json output. "
      ]
    },
    {
      "cell_type": "code",
      "execution_count": null,
      "metadata": {
        "id": "NRW-xxnmNmn6"
      },
      "outputs": [],
      "source": [
        "df = pd.DataFrame()"
      ]
    },
    {
      "cell_type": "code",
      "execution_count": null,
      "metadata": {
        "id": "0kU0_NyqNmn6"
      },
      "outputs": [],
      "source": [
        "def gather_data(name, col):\n",
        "\n",
        "    lst = []\n",
        "    val = \"\"\n",
        "    for i in fields:\n",
        "        for j in i:\n",
        "            if j['key'] == name:\n",
        "                val = j['value']\n",
        "            else:\n",
        "                pass\n",
        "        \n",
        "        lst.append(val)\n",
        "        \n",
        "    df[col] = lst\n",
        "    \n",
        "    return df"
      ]
    },
    {
      "cell_type": "code",
      "execution_count": null,
      "metadata": {
        "id": "dZjv7wZcNmn7"
      },
      "outputs": [],
      "source": [
        "keys = ['name', 'rank', 'rankchange', 'f500_revenues', 'f500_profits', \n",
        "        'f500_employees', 'sector', 'hqcity', 'hqstate', 'newcomer', \n",
        "        'ceofounder', 'ceowoman', 'profitable']\n",
        "\n",
        "cols = ['company', 'rank', 'rank_change', 'revenue', 'profit',\n",
        "        'num. of employees', 'sector', 'city', 'state', 'newcomer', \n",
        "        'ceo_founder', 'ceo_woman', 'profitable']\n",
        "\n",
        "\n",
        "for x,y in zip(keys, cols):\n",
        "    f500_df = gather_data(x, y)"
      ]
    },
    {
      "cell_type": "code",
      "execution_count": null,
      "metadata": {
        "colab": {
          "base_uri": "https://localhost:8080/",
          "height": 461
        },
        "id": "wHUh4wFTNmn7",
        "outputId": "146a45f3-0645-4c09-ba50-129c71ec1f95"
      },
      "outputs": [
        {
          "output_type": "stream",
          "name": "stdout",
          "text": [
            "(1000, 13)\n"
          ]
        },
        {
          "output_type": "execute_result",
          "data": {
            "text/plain": [
              "                          company rank rank_change  revenue  profit  \\\n",
              "0  Expeditors Intl. of Washington  225          74  16523.5  1415.5   \n",
              "1        Thermo Fisher Scientific   92           3    39211    7725   \n",
              "2                     D.R. Horton  124          24  27774.2  4175.8   \n",
              "3          Floor & Decor Holdings  764               3433.5   283.2   \n",
              "4            Winnebago Industries  737               3629.8   281.9   \n",
              "\n",
              "  num. of employees                      sector          city state newcomer  \\\n",
              "0             19070              Transportation       Seattle    WA       no   \n",
              "1            129000                  Technology       Waltham    MA       no   \n",
              "2             11788  Engineering & Construction     Arlington    TX       no   \n",
              "3              9276                   Retailing       Atlanta    GA       no   \n",
              "4              6532      Motor Vehicles & Parts  Eden Prairie    MN       no   \n",
              "\n",
              "  ceo_founder ceo_woman profitable  \n",
              "0          no        no        yes  \n",
              "1          no        no        yes  \n",
              "2          no        no        yes  \n",
              "3          no        no        yes  \n",
              "4          no        no        yes  "
            ],
            "text/html": [
              "\n",
              "  <div id=\"df-fff10898-12f6-4a1d-bab4-e434f4497f13\">\n",
              "    <div class=\"colab-df-container\">\n",
              "      <div>\n",
              "<style scoped>\n",
              "    .dataframe tbody tr th:only-of-type {\n",
              "        vertical-align: middle;\n",
              "    }\n",
              "\n",
              "    .dataframe tbody tr th {\n",
              "        vertical-align: top;\n",
              "    }\n",
              "\n",
              "    .dataframe thead th {\n",
              "        text-align: right;\n",
              "    }\n",
              "</style>\n",
              "<table border=\"1\" class=\"dataframe\">\n",
              "  <thead>\n",
              "    <tr style=\"text-align: right;\">\n",
              "      <th></th>\n",
              "      <th>company</th>\n",
              "      <th>rank</th>\n",
              "      <th>rank_change</th>\n",
              "      <th>revenue</th>\n",
              "      <th>profit</th>\n",
              "      <th>num. of employees</th>\n",
              "      <th>sector</th>\n",
              "      <th>city</th>\n",
              "      <th>state</th>\n",
              "      <th>newcomer</th>\n",
              "      <th>ceo_founder</th>\n",
              "      <th>ceo_woman</th>\n",
              "      <th>profitable</th>\n",
              "    </tr>\n",
              "  </thead>\n",
              "  <tbody>\n",
              "    <tr>\n",
              "      <th>0</th>\n",
              "      <td>Expeditors Intl. of Washington</td>\n",
              "      <td>225</td>\n",
              "      <td>74</td>\n",
              "      <td>16523.5</td>\n",
              "      <td>1415.5</td>\n",
              "      <td>19070</td>\n",
              "      <td>Transportation</td>\n",
              "      <td>Seattle</td>\n",
              "      <td>WA</td>\n",
              "      <td>no</td>\n",
              "      <td>no</td>\n",
              "      <td>no</td>\n",
              "      <td>yes</td>\n",
              "    </tr>\n",
              "    <tr>\n",
              "      <th>1</th>\n",
              "      <td>Thermo Fisher Scientific</td>\n",
              "      <td>92</td>\n",
              "      <td>3</td>\n",
              "      <td>39211</td>\n",
              "      <td>7725</td>\n",
              "      <td>129000</td>\n",
              "      <td>Technology</td>\n",
              "      <td>Waltham</td>\n",
              "      <td>MA</td>\n",
              "      <td>no</td>\n",
              "      <td>no</td>\n",
              "      <td>no</td>\n",
              "      <td>yes</td>\n",
              "    </tr>\n",
              "    <tr>\n",
              "      <th>2</th>\n",
              "      <td>D.R. Horton</td>\n",
              "      <td>124</td>\n",
              "      <td>24</td>\n",
              "      <td>27774.2</td>\n",
              "      <td>4175.8</td>\n",
              "      <td>11788</td>\n",
              "      <td>Engineering &amp; Construction</td>\n",
              "      <td>Arlington</td>\n",
              "      <td>TX</td>\n",
              "      <td>no</td>\n",
              "      <td>no</td>\n",
              "      <td>no</td>\n",
              "      <td>yes</td>\n",
              "    </tr>\n",
              "    <tr>\n",
              "      <th>3</th>\n",
              "      <td>Floor &amp; Decor Holdings</td>\n",
              "      <td>764</td>\n",
              "      <td></td>\n",
              "      <td>3433.5</td>\n",
              "      <td>283.2</td>\n",
              "      <td>9276</td>\n",
              "      <td>Retailing</td>\n",
              "      <td>Atlanta</td>\n",
              "      <td>GA</td>\n",
              "      <td>no</td>\n",
              "      <td>no</td>\n",
              "      <td>no</td>\n",
              "      <td>yes</td>\n",
              "    </tr>\n",
              "    <tr>\n",
              "      <th>4</th>\n",
              "      <td>Winnebago Industries</td>\n",
              "      <td>737</td>\n",
              "      <td></td>\n",
              "      <td>3629.8</td>\n",
              "      <td>281.9</td>\n",
              "      <td>6532</td>\n",
              "      <td>Motor Vehicles &amp; Parts</td>\n",
              "      <td>Eden Prairie</td>\n",
              "      <td>MN</td>\n",
              "      <td>no</td>\n",
              "      <td>no</td>\n",
              "      <td>no</td>\n",
              "      <td>yes</td>\n",
              "    </tr>\n",
              "  </tbody>\n",
              "</table>\n",
              "</div>\n",
              "      <button class=\"colab-df-convert\" onclick=\"convertToInteractive('df-fff10898-12f6-4a1d-bab4-e434f4497f13')\"\n",
              "              title=\"Convert this dataframe to an interactive table.\"\n",
              "              style=\"display:none;\">\n",
              "        \n",
              "  <svg xmlns=\"http://www.w3.org/2000/svg\" height=\"24px\"viewBox=\"0 0 24 24\"\n",
              "       width=\"24px\">\n",
              "    <path d=\"M0 0h24v24H0V0z\" fill=\"none\"/>\n",
              "    <path d=\"M18.56 5.44l.94 2.06.94-2.06 2.06-.94-2.06-.94-.94-2.06-.94 2.06-2.06.94zm-11 1L8.5 8.5l.94-2.06 2.06-.94-2.06-.94L8.5 2.5l-.94 2.06-2.06.94zm10 10l.94 2.06.94-2.06 2.06-.94-2.06-.94-.94-2.06-.94 2.06-2.06.94z\"/><path d=\"M17.41 7.96l-1.37-1.37c-.4-.4-.92-.59-1.43-.59-.52 0-1.04.2-1.43.59L10.3 9.45l-7.72 7.72c-.78.78-.78 2.05 0 2.83L4 21.41c.39.39.9.59 1.41.59.51 0 1.02-.2 1.41-.59l7.78-7.78 2.81-2.81c.8-.78.8-2.07 0-2.86zM5.41 20L4 18.59l7.72-7.72 1.47 1.35L5.41 20z\"/>\n",
              "  </svg>\n",
              "      </button>\n",
              "      \n",
              "  <style>\n",
              "    .colab-df-container {\n",
              "      display:flex;\n",
              "      flex-wrap:wrap;\n",
              "      gap: 12px;\n",
              "    }\n",
              "\n",
              "    .colab-df-convert {\n",
              "      background-color: #E8F0FE;\n",
              "      border: none;\n",
              "      border-radius: 50%;\n",
              "      cursor: pointer;\n",
              "      display: none;\n",
              "      fill: #1967D2;\n",
              "      height: 32px;\n",
              "      padding: 0 0 0 0;\n",
              "      width: 32px;\n",
              "    }\n",
              "\n",
              "    .colab-df-convert:hover {\n",
              "      background-color: #E2EBFA;\n",
              "      box-shadow: 0px 1px 2px rgba(60, 64, 67, 0.3), 0px 1px 3px 1px rgba(60, 64, 67, 0.15);\n",
              "      fill: #174EA6;\n",
              "    }\n",
              "\n",
              "    [theme=dark] .colab-df-convert {\n",
              "      background-color: #3B4455;\n",
              "      fill: #D2E3FC;\n",
              "    }\n",
              "\n",
              "    [theme=dark] .colab-df-convert:hover {\n",
              "      background-color: #434B5C;\n",
              "      box-shadow: 0px 1px 3px 1px rgba(0, 0, 0, 0.15);\n",
              "      filter: drop-shadow(0px 1px 2px rgba(0, 0, 0, 0.3));\n",
              "      fill: #FFFFFF;\n",
              "    }\n",
              "  </style>\n",
              "\n",
              "      <script>\n",
              "        const buttonEl =\n",
              "          document.querySelector('#df-fff10898-12f6-4a1d-bab4-e434f4497f13 button.colab-df-convert');\n",
              "        buttonEl.style.display =\n",
              "          google.colab.kernel.accessAllowed ? 'block' : 'none';\n",
              "\n",
              "        async function convertToInteractive(key) {\n",
              "          const element = document.querySelector('#df-fff10898-12f6-4a1d-bab4-e434f4497f13');\n",
              "          const dataTable =\n",
              "            await google.colab.kernel.invokeFunction('convertToInteractive',\n",
              "                                                     [key], {});\n",
              "          if (!dataTable) return;\n",
              "\n",
              "          const docLinkHtml = 'Like what you see? Visit the ' +\n",
              "            '<a target=\"_blank\" href=https://colab.research.google.com/notebooks/data_table.ipynb>data table notebook</a>'\n",
              "            + ' to learn more about interactive tables.';\n",
              "          element.innerHTML = '';\n",
              "          dataTable['output_type'] = 'display_data';\n",
              "          await google.colab.output.renderOutput(dataTable, element);\n",
              "          const docLink = document.createElement('div');\n",
              "          docLink.innerHTML = docLinkHtml;\n",
              "          element.appendChild(docLink);\n",
              "        }\n",
              "      </script>\n",
              "    </div>\n",
              "  </div>\n",
              "  "
            ]
          },
          "metadata": {},
          "execution_count": 50
        }
      ],
      "source": [
        "print(f500_df.shape)\n",
        "f500_df.head()"
      ]
    },
    {
      "cell_type": "markdown",
      "metadata": {
        "id": "TCxm8GHnNmn7"
      },
      "source": [
        "### Data Types and Features\n",
        "\n",
        "Change our data types to numeric form in columns that show numbers."
      ]
    },
    {
      "cell_type": "code",
      "execution_count": null,
      "metadata": {
        "id": "zUOMOFAtNmn7"
      },
      "outputs": [],
      "source": [
        "f500_df[['rank', 'rank_change', 'revenue', 'profit','num. of employees']] = f500_df[['rank', 'rank_change', 'revenue','profit','num. of employees']].apply(pd.to_numeric)"
      ]
    },
    {
      "cell_type": "markdown",
      "metadata": {
        "id": "AHBXhc_bNmn7"
      },
      "source": [
        "Fill missing rank change values with zero because they either didn't change ranks or they are newcommers. "
      ]
    },
    {
      "cell_type": "code",
      "execution_count": null,
      "metadata": {
        "id": "JH1yeS5XNmn7"
      },
      "outputs": [],
      "source": [
        "# fill missing values with zero\n",
        "f500_df['rank_change'] = f500_df['rank_change'].fillna(0)"
      ]
    },
    {
      "cell_type": "markdown",
      "metadata": {
        "id": "beOvJPeHNmn8"
      },
      "source": [
        "Check data types"
      ]
    },
    {
      "cell_type": "code",
      "execution_count": null,
      "metadata": {
        "colab": {
          "base_uri": "https://localhost:8080/"
        },
        "id": "Mpthd7XENmn8",
        "outputId": "67eb2fc3-b224-4afc-c8c1-e0aeffe14965"
      },
      "outputs": [
        {
          "output_type": "stream",
          "name": "stdout",
          "text": [
            "company               object\n",
            "rank                   int64\n",
            "rank_change          float64\n",
            "revenue              float64\n",
            "profit               float64\n",
            "num. of employees    float64\n",
            "sector                object\n",
            "city                  object\n",
            "state                 object\n",
            "newcomer              object\n",
            "ceo_founder           object\n",
            "ceo_woman             object\n",
            "profitable            object\n",
            "dtype: object\n"
          ]
        }
      ],
      "source": [
        "print(f500_df.dtypes)"
      ]
    },
    {
      "cell_type": "markdown",
      "metadata": {
        "id": "zMaMYZCUNmn8"
      },
      "source": [
        "**New Feature: Previous Rank** \n",
        "\n",
        "Now we're going to create a new feature that shows the previous rank (2020) of each company in the Forune 500. Does not apply to companies outside of top 500. "
      ]
    },
    {
      "cell_type": "code",
      "execution_count": null,
      "metadata": {
        "colab": {
          "base_uri": "https://localhost:8080/",
          "height": 444
        },
        "id": "ag5NwkywNmn8",
        "outputId": "60c8e691-c8a9-42e5-e73a-fd31096393f1"
      },
      "outputs": [
        {
          "output_type": "execute_result",
          "data": {
            "text/plain": [
              "                          company  rank  rank_change  revenue  profit  \\\n",
              "0  Expeditors Intl. of Washington   225         74.0  16523.5  1415.5   \n",
              "1        Thermo Fisher Scientific    92          3.0  39211.0  7725.0   \n",
              "2                     D.R. Horton   124         24.0  27774.2  4175.8   \n",
              "3          Floor & Decor Holdings   764          0.0   3433.5   283.2   \n",
              "4            Winnebago Industries   737          0.0   3629.8   281.9   \n",
              "\n",
              "   num. of employees                      sector          city state newcomer  \\\n",
              "0            19070.0              Transportation       Seattle    WA       no   \n",
              "1           129000.0                  Technology       Waltham    MA       no   \n",
              "2            11788.0  Engineering & Construction     Arlington    TX       no   \n",
              "3             9276.0                   Retailing       Atlanta    GA       no   \n",
              "4             6532.0      Motor Vehicles & Parts  Eden Prairie    MN       no   \n",
              "\n",
              "  ceo_founder ceo_woman profitable  prev_rank  \n",
              "0          no        no        yes      299.0  \n",
              "1          no        no        yes       95.0  \n",
              "2          no        no        yes      148.0  \n",
              "3          no        no        yes      764.0  \n",
              "4          no        no        yes      737.0  "
            ],
            "text/html": [
              "\n",
              "  <div id=\"df-21983b35-3d59-434d-95d3-ac44d204d461\">\n",
              "    <div class=\"colab-df-container\">\n",
              "      <div>\n",
              "<style scoped>\n",
              "    .dataframe tbody tr th:only-of-type {\n",
              "        vertical-align: middle;\n",
              "    }\n",
              "\n",
              "    .dataframe tbody tr th {\n",
              "        vertical-align: top;\n",
              "    }\n",
              "\n",
              "    .dataframe thead th {\n",
              "        text-align: right;\n",
              "    }\n",
              "</style>\n",
              "<table border=\"1\" class=\"dataframe\">\n",
              "  <thead>\n",
              "    <tr style=\"text-align: right;\">\n",
              "      <th></th>\n",
              "      <th>company</th>\n",
              "      <th>rank</th>\n",
              "      <th>rank_change</th>\n",
              "      <th>revenue</th>\n",
              "      <th>profit</th>\n",
              "      <th>num. of employees</th>\n",
              "      <th>sector</th>\n",
              "      <th>city</th>\n",
              "      <th>state</th>\n",
              "      <th>newcomer</th>\n",
              "      <th>ceo_founder</th>\n",
              "      <th>ceo_woman</th>\n",
              "      <th>profitable</th>\n",
              "      <th>prev_rank</th>\n",
              "    </tr>\n",
              "  </thead>\n",
              "  <tbody>\n",
              "    <tr>\n",
              "      <th>0</th>\n",
              "      <td>Expeditors Intl. of Washington</td>\n",
              "      <td>225</td>\n",
              "      <td>74.0</td>\n",
              "      <td>16523.5</td>\n",
              "      <td>1415.5</td>\n",
              "      <td>19070.0</td>\n",
              "      <td>Transportation</td>\n",
              "      <td>Seattle</td>\n",
              "      <td>WA</td>\n",
              "      <td>no</td>\n",
              "      <td>no</td>\n",
              "      <td>no</td>\n",
              "      <td>yes</td>\n",
              "      <td>299.0</td>\n",
              "    </tr>\n",
              "    <tr>\n",
              "      <th>1</th>\n",
              "      <td>Thermo Fisher Scientific</td>\n",
              "      <td>92</td>\n",
              "      <td>3.0</td>\n",
              "      <td>39211.0</td>\n",
              "      <td>7725.0</td>\n",
              "      <td>129000.0</td>\n",
              "      <td>Technology</td>\n",
              "      <td>Waltham</td>\n",
              "      <td>MA</td>\n",
              "      <td>no</td>\n",
              "      <td>no</td>\n",
              "      <td>no</td>\n",
              "      <td>yes</td>\n",
              "      <td>95.0</td>\n",
              "    </tr>\n",
              "    <tr>\n",
              "      <th>2</th>\n",
              "      <td>D.R. Horton</td>\n",
              "      <td>124</td>\n",
              "      <td>24.0</td>\n",
              "      <td>27774.2</td>\n",
              "      <td>4175.8</td>\n",
              "      <td>11788.0</td>\n",
              "      <td>Engineering &amp; Construction</td>\n",
              "      <td>Arlington</td>\n",
              "      <td>TX</td>\n",
              "      <td>no</td>\n",
              "      <td>no</td>\n",
              "      <td>no</td>\n",
              "      <td>yes</td>\n",
              "      <td>148.0</td>\n",
              "    </tr>\n",
              "    <tr>\n",
              "      <th>3</th>\n",
              "      <td>Floor &amp; Decor Holdings</td>\n",
              "      <td>764</td>\n",
              "      <td>0.0</td>\n",
              "      <td>3433.5</td>\n",
              "      <td>283.2</td>\n",
              "      <td>9276.0</td>\n",
              "      <td>Retailing</td>\n",
              "      <td>Atlanta</td>\n",
              "      <td>GA</td>\n",
              "      <td>no</td>\n",
              "      <td>no</td>\n",
              "      <td>no</td>\n",
              "      <td>yes</td>\n",
              "      <td>764.0</td>\n",
              "    </tr>\n",
              "    <tr>\n",
              "      <th>4</th>\n",
              "      <td>Winnebago Industries</td>\n",
              "      <td>737</td>\n",
              "      <td>0.0</td>\n",
              "      <td>3629.8</td>\n",
              "      <td>281.9</td>\n",
              "      <td>6532.0</td>\n",
              "      <td>Motor Vehicles &amp; Parts</td>\n",
              "      <td>Eden Prairie</td>\n",
              "      <td>MN</td>\n",
              "      <td>no</td>\n",
              "      <td>no</td>\n",
              "      <td>no</td>\n",
              "      <td>yes</td>\n",
              "      <td>737.0</td>\n",
              "    </tr>\n",
              "  </tbody>\n",
              "</table>\n",
              "</div>\n",
              "      <button class=\"colab-df-convert\" onclick=\"convertToInteractive('df-21983b35-3d59-434d-95d3-ac44d204d461')\"\n",
              "              title=\"Convert this dataframe to an interactive table.\"\n",
              "              style=\"display:none;\">\n",
              "        \n",
              "  <svg xmlns=\"http://www.w3.org/2000/svg\" height=\"24px\"viewBox=\"0 0 24 24\"\n",
              "       width=\"24px\">\n",
              "    <path d=\"M0 0h24v24H0V0z\" fill=\"none\"/>\n",
              "    <path d=\"M18.56 5.44l.94 2.06.94-2.06 2.06-.94-2.06-.94-.94-2.06-.94 2.06-2.06.94zm-11 1L8.5 8.5l.94-2.06 2.06-.94-2.06-.94L8.5 2.5l-.94 2.06-2.06.94zm10 10l.94 2.06.94-2.06 2.06-.94-2.06-.94-.94-2.06-.94 2.06-2.06.94z\"/><path d=\"M17.41 7.96l-1.37-1.37c-.4-.4-.92-.59-1.43-.59-.52 0-1.04.2-1.43.59L10.3 9.45l-7.72 7.72c-.78.78-.78 2.05 0 2.83L4 21.41c.39.39.9.59 1.41.59.51 0 1.02-.2 1.41-.59l7.78-7.78 2.81-2.81c.8-.78.8-2.07 0-2.86zM5.41 20L4 18.59l7.72-7.72 1.47 1.35L5.41 20z\"/>\n",
              "  </svg>\n",
              "      </button>\n",
              "      \n",
              "  <style>\n",
              "    .colab-df-container {\n",
              "      display:flex;\n",
              "      flex-wrap:wrap;\n",
              "      gap: 12px;\n",
              "    }\n",
              "\n",
              "    .colab-df-convert {\n",
              "      background-color: #E8F0FE;\n",
              "      border: none;\n",
              "      border-radius: 50%;\n",
              "      cursor: pointer;\n",
              "      display: none;\n",
              "      fill: #1967D2;\n",
              "      height: 32px;\n",
              "      padding: 0 0 0 0;\n",
              "      width: 32px;\n",
              "    }\n",
              "\n",
              "    .colab-df-convert:hover {\n",
              "      background-color: #E2EBFA;\n",
              "      box-shadow: 0px 1px 2px rgba(60, 64, 67, 0.3), 0px 1px 3px 1px rgba(60, 64, 67, 0.15);\n",
              "      fill: #174EA6;\n",
              "    }\n",
              "\n",
              "    [theme=dark] .colab-df-convert {\n",
              "      background-color: #3B4455;\n",
              "      fill: #D2E3FC;\n",
              "    }\n",
              "\n",
              "    [theme=dark] .colab-df-convert:hover {\n",
              "      background-color: #434B5C;\n",
              "      box-shadow: 0px 1px 3px 1px rgba(0, 0, 0, 0.15);\n",
              "      filter: drop-shadow(0px 1px 2px rgba(0, 0, 0, 0.3));\n",
              "      fill: #FFFFFF;\n",
              "    }\n",
              "  </style>\n",
              "\n",
              "      <script>\n",
              "        const buttonEl =\n",
              "          document.querySelector('#df-21983b35-3d59-434d-95d3-ac44d204d461 button.colab-df-convert');\n",
              "        buttonEl.style.display =\n",
              "          google.colab.kernel.accessAllowed ? 'block' : 'none';\n",
              "\n",
              "        async function convertToInteractive(key) {\n",
              "          const element = document.querySelector('#df-21983b35-3d59-434d-95d3-ac44d204d461');\n",
              "          const dataTable =\n",
              "            await google.colab.kernel.invokeFunction('convertToInteractive',\n",
              "                                                     [key], {});\n",
              "          if (!dataTable) return;\n",
              "\n",
              "          const docLinkHtml = 'Like what you see? Visit the ' +\n",
              "            '<a target=\"_blank\" href=https://colab.research.google.com/notebooks/data_table.ipynb>data table notebook</a>'\n",
              "            + ' to learn more about interactive tables.';\n",
              "          element.innerHTML = '';\n",
              "          dataTable['output_type'] = 'display_data';\n",
              "          await google.colab.output.renderOutput(dataTable, element);\n",
              "          const docLink = document.createElement('div');\n",
              "          docLink.innerHTML = docLinkHtml;\n",
              "          element.appendChild(docLink);\n",
              "        }\n",
              "      </script>\n",
              "    </div>\n",
              "  </div>\n",
              "  "
            ]
          },
          "metadata": {},
          "execution_count": 54
        }
      ],
      "source": [
        "# Create new features\n",
        "f500_df['prev_rank'] = (f500_df['rank'] + f500_df['rank_change'])\n",
        "f500_df.head()"
      ]
    },
    {
      "cell_type": "markdown",
      "metadata": {
        "id": "xiLwZVS2Nmn8"
      },
      "source": [
        "But we need to account for companies that are newcommers to the 500 and any companies outside of the top 500 (their rank change is not given). If we don't we will get duplicate values. "
      ]
    },
    {
      "cell_type": "code",
      "execution_count": null,
      "metadata": {
        "id": "Rwm4HHbWNmn8"
      },
      "outputs": [],
      "source": [
        "# newcommer prev_rank\n",
        "f500_df.loc[(f500_df['newcomer'] == 'yes')| (f500_df['rank']>499), 'prev_rank'] = \" \"         "
      ]
    },
    {
      "cell_type": "code",
      "execution_count": null,
      "metadata": {
        "colab": {
          "base_uri": "https://localhost:8080/",
          "height": 444
        },
        "id": "wlYYe2y2Nmn8",
        "outputId": "d114b6e9-9e6c-4e9e-cc74-f070511965bb"
      },
      "outputs": [
        {
          "output_type": "execute_result",
          "data": {
            "text/plain": [
              "                          company  rank  rank_change  revenue  profit  \\\n",
              "0  Expeditors Intl. of Washington   225         74.0  16523.5  1415.5   \n",
              "1        Thermo Fisher Scientific    92          3.0  39211.0  7725.0   \n",
              "2                     D.R. Horton   124         24.0  27774.2  4175.8   \n",
              "3          Floor & Decor Holdings   764          0.0   3433.5   283.2   \n",
              "4            Winnebago Industries   737          0.0   3629.8   281.9   \n",
              "\n",
              "   num. of employees                      sector          city state newcomer  \\\n",
              "0            19070.0              Transportation       Seattle    WA       no   \n",
              "1           129000.0                  Technology       Waltham    MA       no   \n",
              "2            11788.0  Engineering & Construction     Arlington    TX       no   \n",
              "3             9276.0                   Retailing       Atlanta    GA       no   \n",
              "4             6532.0      Motor Vehicles & Parts  Eden Prairie    MN       no   \n",
              "\n",
              "  ceo_founder ceo_woman profitable prev_rank  \n",
              "0          no        no        yes     299.0  \n",
              "1          no        no        yes      95.0  \n",
              "2          no        no        yes     148.0  \n",
              "3          no        no        yes            \n",
              "4          no        no        yes            "
            ],
            "text/html": [
              "\n",
              "  <div id=\"df-539bc425-8756-44f2-9226-90b1426e3353\">\n",
              "    <div class=\"colab-df-container\">\n",
              "      <div>\n",
              "<style scoped>\n",
              "    .dataframe tbody tr th:only-of-type {\n",
              "        vertical-align: middle;\n",
              "    }\n",
              "\n",
              "    .dataframe tbody tr th {\n",
              "        vertical-align: top;\n",
              "    }\n",
              "\n",
              "    .dataframe thead th {\n",
              "        text-align: right;\n",
              "    }\n",
              "</style>\n",
              "<table border=\"1\" class=\"dataframe\">\n",
              "  <thead>\n",
              "    <tr style=\"text-align: right;\">\n",
              "      <th></th>\n",
              "      <th>company</th>\n",
              "      <th>rank</th>\n",
              "      <th>rank_change</th>\n",
              "      <th>revenue</th>\n",
              "      <th>profit</th>\n",
              "      <th>num. of employees</th>\n",
              "      <th>sector</th>\n",
              "      <th>city</th>\n",
              "      <th>state</th>\n",
              "      <th>newcomer</th>\n",
              "      <th>ceo_founder</th>\n",
              "      <th>ceo_woman</th>\n",
              "      <th>profitable</th>\n",
              "      <th>prev_rank</th>\n",
              "    </tr>\n",
              "  </thead>\n",
              "  <tbody>\n",
              "    <tr>\n",
              "      <th>0</th>\n",
              "      <td>Expeditors Intl. of Washington</td>\n",
              "      <td>225</td>\n",
              "      <td>74.0</td>\n",
              "      <td>16523.5</td>\n",
              "      <td>1415.5</td>\n",
              "      <td>19070.0</td>\n",
              "      <td>Transportation</td>\n",
              "      <td>Seattle</td>\n",
              "      <td>WA</td>\n",
              "      <td>no</td>\n",
              "      <td>no</td>\n",
              "      <td>no</td>\n",
              "      <td>yes</td>\n",
              "      <td>299.0</td>\n",
              "    </tr>\n",
              "    <tr>\n",
              "      <th>1</th>\n",
              "      <td>Thermo Fisher Scientific</td>\n",
              "      <td>92</td>\n",
              "      <td>3.0</td>\n",
              "      <td>39211.0</td>\n",
              "      <td>7725.0</td>\n",
              "      <td>129000.0</td>\n",
              "      <td>Technology</td>\n",
              "      <td>Waltham</td>\n",
              "      <td>MA</td>\n",
              "      <td>no</td>\n",
              "      <td>no</td>\n",
              "      <td>no</td>\n",
              "      <td>yes</td>\n",
              "      <td>95.0</td>\n",
              "    </tr>\n",
              "    <tr>\n",
              "      <th>2</th>\n",
              "      <td>D.R. Horton</td>\n",
              "      <td>124</td>\n",
              "      <td>24.0</td>\n",
              "      <td>27774.2</td>\n",
              "      <td>4175.8</td>\n",
              "      <td>11788.0</td>\n",
              "      <td>Engineering &amp; Construction</td>\n",
              "      <td>Arlington</td>\n",
              "      <td>TX</td>\n",
              "      <td>no</td>\n",
              "      <td>no</td>\n",
              "      <td>no</td>\n",
              "      <td>yes</td>\n",
              "      <td>148.0</td>\n",
              "    </tr>\n",
              "    <tr>\n",
              "      <th>3</th>\n",
              "      <td>Floor &amp; Decor Holdings</td>\n",
              "      <td>764</td>\n",
              "      <td>0.0</td>\n",
              "      <td>3433.5</td>\n",
              "      <td>283.2</td>\n",
              "      <td>9276.0</td>\n",
              "      <td>Retailing</td>\n",
              "      <td>Atlanta</td>\n",
              "      <td>GA</td>\n",
              "      <td>no</td>\n",
              "      <td>no</td>\n",
              "      <td>no</td>\n",
              "      <td>yes</td>\n",
              "      <td></td>\n",
              "    </tr>\n",
              "    <tr>\n",
              "      <th>4</th>\n",
              "      <td>Winnebago Industries</td>\n",
              "      <td>737</td>\n",
              "      <td>0.0</td>\n",
              "      <td>3629.8</td>\n",
              "      <td>281.9</td>\n",
              "      <td>6532.0</td>\n",
              "      <td>Motor Vehicles &amp; Parts</td>\n",
              "      <td>Eden Prairie</td>\n",
              "      <td>MN</td>\n",
              "      <td>no</td>\n",
              "      <td>no</td>\n",
              "      <td>no</td>\n",
              "      <td>yes</td>\n",
              "      <td></td>\n",
              "    </tr>\n",
              "  </tbody>\n",
              "</table>\n",
              "</div>\n",
              "      <button class=\"colab-df-convert\" onclick=\"convertToInteractive('df-539bc425-8756-44f2-9226-90b1426e3353')\"\n",
              "              title=\"Convert this dataframe to an interactive table.\"\n",
              "              style=\"display:none;\">\n",
              "        \n",
              "  <svg xmlns=\"http://www.w3.org/2000/svg\" height=\"24px\"viewBox=\"0 0 24 24\"\n",
              "       width=\"24px\">\n",
              "    <path d=\"M0 0h24v24H0V0z\" fill=\"none\"/>\n",
              "    <path d=\"M18.56 5.44l.94 2.06.94-2.06 2.06-.94-2.06-.94-.94-2.06-.94 2.06-2.06.94zm-11 1L8.5 8.5l.94-2.06 2.06-.94-2.06-.94L8.5 2.5l-.94 2.06-2.06.94zm10 10l.94 2.06.94-2.06 2.06-.94-2.06-.94-.94-2.06-.94 2.06-2.06.94z\"/><path d=\"M17.41 7.96l-1.37-1.37c-.4-.4-.92-.59-1.43-.59-.52 0-1.04.2-1.43.59L10.3 9.45l-7.72 7.72c-.78.78-.78 2.05 0 2.83L4 21.41c.39.39.9.59 1.41.59.51 0 1.02-.2 1.41-.59l7.78-7.78 2.81-2.81c.8-.78.8-2.07 0-2.86zM5.41 20L4 18.59l7.72-7.72 1.47 1.35L5.41 20z\"/>\n",
              "  </svg>\n",
              "      </button>\n",
              "      \n",
              "  <style>\n",
              "    .colab-df-container {\n",
              "      display:flex;\n",
              "      flex-wrap:wrap;\n",
              "      gap: 12px;\n",
              "    }\n",
              "\n",
              "    .colab-df-convert {\n",
              "      background-color: #E8F0FE;\n",
              "      border: none;\n",
              "      border-radius: 50%;\n",
              "      cursor: pointer;\n",
              "      display: none;\n",
              "      fill: #1967D2;\n",
              "      height: 32px;\n",
              "      padding: 0 0 0 0;\n",
              "      width: 32px;\n",
              "    }\n",
              "\n",
              "    .colab-df-convert:hover {\n",
              "      background-color: #E2EBFA;\n",
              "      box-shadow: 0px 1px 2px rgba(60, 64, 67, 0.3), 0px 1px 3px 1px rgba(60, 64, 67, 0.15);\n",
              "      fill: #174EA6;\n",
              "    }\n",
              "\n",
              "    [theme=dark] .colab-df-convert {\n",
              "      background-color: #3B4455;\n",
              "      fill: #D2E3FC;\n",
              "    }\n",
              "\n",
              "    [theme=dark] .colab-df-convert:hover {\n",
              "      background-color: #434B5C;\n",
              "      box-shadow: 0px 1px 3px 1px rgba(0, 0, 0, 0.15);\n",
              "      filter: drop-shadow(0px 1px 2px rgba(0, 0, 0, 0.3));\n",
              "      fill: #FFFFFF;\n",
              "    }\n",
              "  </style>\n",
              "\n",
              "      <script>\n",
              "        const buttonEl =\n",
              "          document.querySelector('#df-539bc425-8756-44f2-9226-90b1426e3353 button.colab-df-convert');\n",
              "        buttonEl.style.display =\n",
              "          google.colab.kernel.accessAllowed ? 'block' : 'none';\n",
              "\n",
              "        async function convertToInteractive(key) {\n",
              "          const element = document.querySelector('#df-539bc425-8756-44f2-9226-90b1426e3353');\n",
              "          const dataTable =\n",
              "            await google.colab.kernel.invokeFunction('convertToInteractive',\n",
              "                                                     [key], {});\n",
              "          if (!dataTable) return;\n",
              "\n",
              "          const docLinkHtml = 'Like what you see? Visit the ' +\n",
              "            '<a target=\"_blank\" href=https://colab.research.google.com/notebooks/data_table.ipynb>data table notebook</a>'\n",
              "            + ' to learn more about interactive tables.';\n",
              "          element.innerHTML = '';\n",
              "          dataTable['output_type'] = 'display_data';\n",
              "          await google.colab.output.renderOutput(dataTable, element);\n",
              "          const docLink = document.createElement('div');\n",
              "          docLink.innerHTML = docLinkHtml;\n",
              "          element.appendChild(docLink);\n",
              "        }\n",
              "      </script>\n",
              "    </div>\n",
              "  </div>\n",
              "  "
            ]
          },
          "metadata": {},
          "execution_count": 56
        }
      ],
      "source": [
        "f500_df.head()"
      ]
    },
    {
      "cell_type": "markdown",
      "metadata": {
        "id": "M99G722TNmn9"
      },
      "source": [
        "And that is our first dataset."
      ]
    },
    {
      "cell_type": "markdown",
      "metadata": {
        "id": "lRGWnYvcNmn9"
      },
      "source": [
        "# 3. Crawl Company Urls"
      ]
    },
    {
      "cell_type": "markdown",
      "metadata": {
        "id": "jhyNcWvENmn9"
      },
      "source": [
        "Now we can address the \"permalink\" varibale in our dictionaries. \n",
        "\n",
        "This dictionary contains the link to each company's Fortune webpage.\n",
        "\n",
        "Grab those links and put them in a list. "
      ]
    },
    {
      "cell_type": "markdown",
      "metadata": {
        "id": "7XeLK2_tNmn9"
      },
      "source": [
        "Gather urls:"
      ]
    },
    {
      "cell_type": "code",
      "execution_count": null,
      "metadata": {
        "colab": {
          "base_uri": "https://localhost:8080/"
        },
        "id": "4dGp54dvNmn9",
        "outputId": "e4e02db4-a7be-4677-e53f-f71968e2b48b"
      },
      "outputs": [
        {
          "output_type": "stream",
          "name": "stdout",
          "text": [
            "1000\n"
          ]
        }
      ],
      "source": [
        "urls = []\n",
        "\n",
        "for i in comp['items']:\n",
        "    \n",
        "    #for key, value in comp:\n",
        "    url = i['permalink']\n",
        "    urls.append(url)\n",
        "        \n",
        "print(len(urls))"
      ]
    },
    {
      "cell_type": "markdown",
      "metadata": {
        "id": "_Px8g2x7Nmn9"
      },
      "source": [
        "Crawl each of these urls and pull the infromation from the page for:\n",
        "\n",
        "- website url\n",
        "- CEO\n",
        "- Ticker\n",
        "- Market cap\n"
      ]
    },
    {
      "cell_type": "markdown",
      "metadata": {
        "id": "M3uA50JoNmn9"
      },
      "source": [
        "For each company in the list, we will crawl their Fortune 500 company page and scrape the information we desire.  "
      ]
    },
    {
      "cell_type": "markdown",
      "metadata": {
        "id": "xP2aSUErNmn-"
      },
      "source": [
        "### Another Roadblock\n",
        "\n",
        "Interestingly, the data we want cannot be scraped by simply looking at the developer window and calling the elements representing the corresponding values. You can see in the photo below, the CEO name is represented by a \"div\" element and in the \"info__value--2AHH7\" class, but when we call those elements it returns an empty dataset. "
      ]
    },
    {
      "cell_type": "markdown",
      "metadata": {
        "id": "cmfQkbhKNmn-"
      },
      "source": [
        "![ceo_dev_shot.png](attachment:ceo_dev_shot.png)"
      ]
    },
    {
      "cell_type": "markdown",
      "metadata": {
        "id": "B5pwIQ5uNmn-"
      },
      "source": [
        "Looks like I need to be a little more creative, so I pulled up the page source and did a keyword search on the the html. I found the name of the CEO in the html and going backwareds I was able to determine it was defined inside of the javascript variable:\n",
        "\n",
        "    \"__PRELOADED_STATE__ = \""
      ]
    },
    {
      "cell_type": "markdown",
      "metadata": {
        "id": "OtgpoAwENmn-"
      },
      "source": [
        "![html_search.png](attachment:html_search.png)"
      ]
    },
    {
      "cell_type": "markdown",
      "metadata": {
        "id": "RI_pYmxHNmn-"
      },
      "source": [
        "Therefore, we create our function to make our webpage request and then we extract our variable \"__PRELOADED_STATE__\". We can further narrow our response to the actual dictionary, **\"company-information\"**, that holds the data we seek. And finally, we convert that data to json format."
      ]
    },
    {
      "cell_type": "code",
      "execution_count": null,
      "metadata": {
        "id": "G8HtxUL9Nmn-"
      },
      "outputs": [],
      "source": [
        "def soups(data):\n",
        "    r = requests.get(data).text\n",
        "    # select the the JSON from the html\n",
        "    html = r[r.find('__PRELOADED_STATE__ = ') + len('__PRELOADED_STATE__ = '):]\n",
        "    html = html[:html.find('};') + 1]\n",
        "    \n",
        "    # find company-information\n",
        "    good_data = html[html.find('\"company-information\",\"config\":') + len('\"company-information\",\"config\":'):]\n",
        "    good_data = good_data[:good_data.find('},') + 1]\n",
        "    \n",
        "    # convert to json\n",
        "    j = json.loads(good_data)\n",
        "    \n",
        "    return j"
      ]
    },
    {
      "cell_type": "code",
      "execution_count": null,
      "metadata": {
        "colab": {
          "base_uri": "https://localhost:8080/"
        },
        "id": "YoTlQ13lNmn-",
        "outputId": "bfa2f67a-a4d4-4c11-a993-0e233247396a"
      },
      "outputs": [
        {
          "output_type": "stream",
          "name": "stdout",
          "text": [
            "1000\n"
          ]
        }
      ],
      "source": [
        "# Call soup function and store output in a list\n",
        "web = []\n",
        "\n",
        "for url in urls:\n",
        "    htmls = soups(url)\n",
        "    web.append(htmls)\n",
        "print(len(web))"
      ]
    },
    {
      "cell_type": "markdown",
      "metadata": {
        "id": "B_c-k2OyNmn_"
      },
      "source": [
        "**Example:** Second company in the list web page response."
      ]
    },
    {
      "cell_type": "code",
      "execution_count": null,
      "metadata": {
        "colab": {
          "base_uri": "https://localhost:8080/"
        },
        "id": "nRhu5djdNmn_",
        "outputId": "74542ea2-b3ed-4b22-fe1d-5c0635662406"
      },
      "outputs": [
        {
          "output_type": "stream",
          "name": "stdout",
          "text": [
            "{'title': 'Company information', 'country': 'U.S.', 'headquarters': 'Waltham, Mass.', 'industry': 'Medical Products & Equipment', 'ceo': 'Marc Casper', 'website': 'https://www.thermofisher.com', 'companyType': 'Public', 'ticker': 'TMO', 'revenues': '41123', 'profits': '7603', 'marketValue': '202645', 'employees': '130000', 'updated': '10/26/22', 'footnote': 'Revenue and net income for the four quarters ended on or before April 30, 2022. Market value as of Oct. 17, 2022.'}\n"
          ]
        }
      ],
      "source": [
        "print(web[1])"
      ]
    },
    {
      "cell_type": "markdown",
      "metadata": {
        "id": "78GmIIh1Nmn_"
      },
      "source": [
        "### Scrape Data and Store in Dataframe\n",
        "\n",
        "Next, we scrape the specific datsa we want from each dictionary in our list and put the data into a new dataframe. "
      ]
    },
    {
      "cell_type": "code",
      "execution_count": null,
      "metadata": {
        "id": "a-UI3zsQNmn_"
      },
      "outputs": [],
      "source": [
        "m_df = pd.DataFrame()"
      ]
    },
    {
      "cell_type": "code",
      "execution_count": null,
      "metadata": {
        "id": "rAkpTUpZNmn_"
      },
      "outputs": [],
      "source": [
        "def get_data(name, col):\n",
        "\n",
        "    lst = []\n",
        "    val = \"\"\n",
        "    for i in web: \n",
        "        for key, value in i.items():\n",
        "            if key == name:\n",
        "                val = value\n",
        "            else:\n",
        "                pass\n",
        "        \n",
        "        lst.append(val)\n",
        "        \n",
        "    m_df[col] = lst\n",
        "    \n",
        "    return m_df"
      ]
    },
    {
      "cell_type": "code",
      "execution_count": null,
      "metadata": {
        "id": "3S75xQSuNmn_"
      },
      "outputs": [],
      "source": [
        "keys = ['ceo','website', 'ticker','marketValue']\n",
        "\n",
        "cols = ['CEO', 'Website', 'Ticker','Market Cap']\n",
        "\n",
        "\n",
        "for x,y in zip(keys, cols):\n",
        "    m_df = get_data(x, y)\n",
        "    #n_df = get_data(x, y)"
      ]
    },
    {
      "cell_type": "code",
      "execution_count": null,
      "metadata": {
        "colab": {
          "base_uri": "https://localhost:8080/",
          "height": 206
        },
        "id": "yWRsrNK7NmoA",
        "outputId": "2c72b6c3-722f-4e1a-d7db-50f3368968d1"
      },
      "outputs": [
        {
          "output_type": "execute_result",
          "data": {
            "text/plain": [
              "              CEO                        Website Ticker Market Cap\n",
              "0  Jeffrey Musser     https://www.expeditors.com   EXPD      15051\n",
              "1     Marc Casper   https://www.thermofisher.com    TMO     202645\n",
              "2      David Auld       https://www.drhorton.com    DHI      24313\n",
              "3   Thomas Taylor  https://www.flooranddecor.com    FND       7490\n",
              "4   Michael Happe   https://www.winnebagoind.com    WGO       1826"
            ],
            "text/html": [
              "\n",
              "  <div id=\"df-005413f8-ed32-42aa-ac67-83a54c6a628c\">\n",
              "    <div class=\"colab-df-container\">\n",
              "      <div>\n",
              "<style scoped>\n",
              "    .dataframe tbody tr th:only-of-type {\n",
              "        vertical-align: middle;\n",
              "    }\n",
              "\n",
              "    .dataframe tbody tr th {\n",
              "        vertical-align: top;\n",
              "    }\n",
              "\n",
              "    .dataframe thead th {\n",
              "        text-align: right;\n",
              "    }\n",
              "</style>\n",
              "<table border=\"1\" class=\"dataframe\">\n",
              "  <thead>\n",
              "    <tr style=\"text-align: right;\">\n",
              "      <th></th>\n",
              "      <th>CEO</th>\n",
              "      <th>Website</th>\n",
              "      <th>Ticker</th>\n",
              "      <th>Market Cap</th>\n",
              "    </tr>\n",
              "  </thead>\n",
              "  <tbody>\n",
              "    <tr>\n",
              "      <th>0</th>\n",
              "      <td>Jeffrey Musser</td>\n",
              "      <td>https://www.expeditors.com</td>\n",
              "      <td>EXPD</td>\n",
              "      <td>15051</td>\n",
              "    </tr>\n",
              "    <tr>\n",
              "      <th>1</th>\n",
              "      <td>Marc Casper</td>\n",
              "      <td>https://www.thermofisher.com</td>\n",
              "      <td>TMO</td>\n",
              "      <td>202645</td>\n",
              "    </tr>\n",
              "    <tr>\n",
              "      <th>2</th>\n",
              "      <td>David Auld</td>\n",
              "      <td>https://www.drhorton.com</td>\n",
              "      <td>DHI</td>\n",
              "      <td>24313</td>\n",
              "    </tr>\n",
              "    <tr>\n",
              "      <th>3</th>\n",
              "      <td>Thomas Taylor</td>\n",
              "      <td>https://www.flooranddecor.com</td>\n",
              "      <td>FND</td>\n",
              "      <td>7490</td>\n",
              "    </tr>\n",
              "    <tr>\n",
              "      <th>4</th>\n",
              "      <td>Michael Happe</td>\n",
              "      <td>https://www.winnebagoind.com</td>\n",
              "      <td>WGO</td>\n",
              "      <td>1826</td>\n",
              "    </tr>\n",
              "  </tbody>\n",
              "</table>\n",
              "</div>\n",
              "      <button class=\"colab-df-convert\" onclick=\"convertToInteractive('df-005413f8-ed32-42aa-ac67-83a54c6a628c')\"\n",
              "              title=\"Convert this dataframe to an interactive table.\"\n",
              "              style=\"display:none;\">\n",
              "        \n",
              "  <svg xmlns=\"http://www.w3.org/2000/svg\" height=\"24px\"viewBox=\"0 0 24 24\"\n",
              "       width=\"24px\">\n",
              "    <path d=\"M0 0h24v24H0V0z\" fill=\"none\"/>\n",
              "    <path d=\"M18.56 5.44l.94 2.06.94-2.06 2.06-.94-2.06-.94-.94-2.06-.94 2.06-2.06.94zm-11 1L8.5 8.5l.94-2.06 2.06-.94-2.06-.94L8.5 2.5l-.94 2.06-2.06.94zm10 10l.94 2.06.94-2.06 2.06-.94-2.06-.94-.94-2.06-.94 2.06-2.06.94z\"/><path d=\"M17.41 7.96l-1.37-1.37c-.4-.4-.92-.59-1.43-.59-.52 0-1.04.2-1.43.59L10.3 9.45l-7.72 7.72c-.78.78-.78 2.05 0 2.83L4 21.41c.39.39.9.59 1.41.59.51 0 1.02-.2 1.41-.59l7.78-7.78 2.81-2.81c.8-.78.8-2.07 0-2.86zM5.41 20L4 18.59l7.72-7.72 1.47 1.35L5.41 20z\"/>\n",
              "  </svg>\n",
              "      </button>\n",
              "      \n",
              "  <style>\n",
              "    .colab-df-container {\n",
              "      display:flex;\n",
              "      flex-wrap:wrap;\n",
              "      gap: 12px;\n",
              "    }\n",
              "\n",
              "    .colab-df-convert {\n",
              "      background-color: #E8F0FE;\n",
              "      border: none;\n",
              "      border-radius: 50%;\n",
              "      cursor: pointer;\n",
              "      display: none;\n",
              "      fill: #1967D2;\n",
              "      height: 32px;\n",
              "      padding: 0 0 0 0;\n",
              "      width: 32px;\n",
              "    }\n",
              "\n",
              "    .colab-df-convert:hover {\n",
              "      background-color: #E2EBFA;\n",
              "      box-shadow: 0px 1px 2px rgba(60, 64, 67, 0.3), 0px 1px 3px 1px rgba(60, 64, 67, 0.15);\n",
              "      fill: #174EA6;\n",
              "    }\n",
              "\n",
              "    [theme=dark] .colab-df-convert {\n",
              "      background-color: #3B4455;\n",
              "      fill: #D2E3FC;\n",
              "    }\n",
              "\n",
              "    [theme=dark] .colab-df-convert:hover {\n",
              "      background-color: #434B5C;\n",
              "      box-shadow: 0px 1px 3px 1px rgba(0, 0, 0, 0.15);\n",
              "      filter: drop-shadow(0px 1px 2px rgba(0, 0, 0, 0.3));\n",
              "      fill: #FFFFFF;\n",
              "    }\n",
              "  </style>\n",
              "\n",
              "      <script>\n",
              "        const buttonEl =\n",
              "          document.querySelector('#df-005413f8-ed32-42aa-ac67-83a54c6a628c button.colab-df-convert');\n",
              "        buttonEl.style.display =\n",
              "          google.colab.kernel.accessAllowed ? 'block' : 'none';\n",
              "\n",
              "        async function convertToInteractive(key) {\n",
              "          const element = document.querySelector('#df-005413f8-ed32-42aa-ac67-83a54c6a628c');\n",
              "          const dataTable =\n",
              "            await google.colab.kernel.invokeFunction('convertToInteractive',\n",
              "                                                     [key], {});\n",
              "          if (!dataTable) return;\n",
              "\n",
              "          const docLinkHtml = 'Like what you see? Visit the ' +\n",
              "            '<a target=\"_blank\" href=https://colab.research.google.com/notebooks/data_table.ipynb>data table notebook</a>'\n",
              "            + ' to learn more about interactive tables.';\n",
              "          element.innerHTML = '';\n",
              "          dataTable['output_type'] = 'display_data';\n",
              "          await google.colab.output.renderOutput(dataTable, element);\n",
              "          const docLink = document.createElement('div');\n",
              "          docLink.innerHTML = docLinkHtml;\n",
              "          element.appendChild(docLink);\n",
              "        }\n",
              "      </script>\n",
              "    </div>\n",
              "  </div>\n",
              "  "
            ]
          },
          "metadata": {},
          "execution_count": 64
        }
      ],
      "source": [
        "m_df.head()"
      ]
    },
    {
      "cell_type": "markdown",
      "metadata": {
        "id": "TNYKka_pNmoA"
      },
      "source": [
        "And this makes up our second dataset."
      ]
    },
    {
      "cell_type": "markdown",
      "metadata": {
        "id": "ekyHpYhpNmoA"
      },
      "source": [
        "# 4. Join and Sort"
      ]
    },
    {
      "cell_type": "markdown",
      "metadata": {
        "id": "KiOXh5RwNmoA"
      },
      "source": [
        "Now we can join our two datasets and sort the data so it shows the rankings from 1 to 1000. "
      ]
    },
    {
      "cell_type": "code",
      "execution_count": null,
      "metadata": {
        "id": "EUVQi2IpNmoA"
      },
      "outputs": [],
      "source": [
        "# join\n",
        "f1000_df = f500_df.join(m_df, how='left')"
      ]
    },
    {
      "cell_type": "code",
      "execution_count": null,
      "metadata": {
        "colab": {
          "base_uri": "https://localhost:8080/",
          "height": 461
        },
        "id": "wXSrN0xpNmoA",
        "outputId": "ff15ff29-7a88-43d2-e96c-c0f63318984a"
      },
      "outputs": [
        {
          "output_type": "stream",
          "name": "stdout",
          "text": [
            "(1000, 18)\n"
          ]
        },
        {
          "output_type": "execute_result",
          "data": {
            "text/plain": [
              "                          company  rank  rank_change  revenue  profit  \\\n",
              "0  Expeditors Intl. of Washington   225         74.0  16523.5  1415.5   \n",
              "1        Thermo Fisher Scientific    92          3.0  39211.0  7725.0   \n",
              "2                     D.R. Horton   124         24.0  27774.2  4175.8   \n",
              "3          Floor & Decor Holdings   764          0.0   3433.5   283.2   \n",
              "4            Winnebago Industries   737          0.0   3629.8   281.9   \n",
              "\n",
              "   num. of employees                      sector          city state newcomer  \\\n",
              "0            19070.0              Transportation       Seattle    WA       no   \n",
              "1           129000.0                  Technology       Waltham    MA       no   \n",
              "2            11788.0  Engineering & Construction     Arlington    TX       no   \n",
              "3             9276.0                   Retailing       Atlanta    GA       no   \n",
              "4             6532.0      Motor Vehicles & Parts  Eden Prairie    MN       no   \n",
              "\n",
              "  ceo_founder ceo_woman profitable prev_rank             CEO  \\\n",
              "0          no        no        yes     299.0  Jeffrey Musser   \n",
              "1          no        no        yes      95.0     Marc Casper   \n",
              "2          no        no        yes     148.0      David Auld   \n",
              "3          no        no        yes             Thomas Taylor   \n",
              "4          no        no        yes             Michael Happe   \n",
              "\n",
              "                         Website Ticker Market Cap  \n",
              "0     https://www.expeditors.com   EXPD      15051  \n",
              "1   https://www.thermofisher.com    TMO     202645  \n",
              "2       https://www.drhorton.com    DHI      24313  \n",
              "3  https://www.flooranddecor.com    FND       7490  \n",
              "4   https://www.winnebagoind.com    WGO       1826  "
            ],
            "text/html": [
              "\n",
              "  <div id=\"df-37da2423-23c3-4bcb-8560-3719a20b4cf0\">\n",
              "    <div class=\"colab-df-container\">\n",
              "      <div>\n",
              "<style scoped>\n",
              "    .dataframe tbody tr th:only-of-type {\n",
              "        vertical-align: middle;\n",
              "    }\n",
              "\n",
              "    .dataframe tbody tr th {\n",
              "        vertical-align: top;\n",
              "    }\n",
              "\n",
              "    .dataframe thead th {\n",
              "        text-align: right;\n",
              "    }\n",
              "</style>\n",
              "<table border=\"1\" class=\"dataframe\">\n",
              "  <thead>\n",
              "    <tr style=\"text-align: right;\">\n",
              "      <th></th>\n",
              "      <th>company</th>\n",
              "      <th>rank</th>\n",
              "      <th>rank_change</th>\n",
              "      <th>revenue</th>\n",
              "      <th>profit</th>\n",
              "      <th>num. of employees</th>\n",
              "      <th>sector</th>\n",
              "      <th>city</th>\n",
              "      <th>state</th>\n",
              "      <th>newcomer</th>\n",
              "      <th>ceo_founder</th>\n",
              "      <th>ceo_woman</th>\n",
              "      <th>profitable</th>\n",
              "      <th>prev_rank</th>\n",
              "      <th>CEO</th>\n",
              "      <th>Website</th>\n",
              "      <th>Ticker</th>\n",
              "      <th>Market Cap</th>\n",
              "    </tr>\n",
              "  </thead>\n",
              "  <tbody>\n",
              "    <tr>\n",
              "      <th>0</th>\n",
              "      <td>Expeditors Intl. of Washington</td>\n",
              "      <td>225</td>\n",
              "      <td>74.0</td>\n",
              "      <td>16523.5</td>\n",
              "      <td>1415.5</td>\n",
              "      <td>19070.0</td>\n",
              "      <td>Transportation</td>\n",
              "      <td>Seattle</td>\n",
              "      <td>WA</td>\n",
              "      <td>no</td>\n",
              "      <td>no</td>\n",
              "      <td>no</td>\n",
              "      <td>yes</td>\n",
              "      <td>299.0</td>\n",
              "      <td>Jeffrey Musser</td>\n",
              "      <td>https://www.expeditors.com</td>\n",
              "      <td>EXPD</td>\n",
              "      <td>15051</td>\n",
              "    </tr>\n",
              "    <tr>\n",
              "      <th>1</th>\n",
              "      <td>Thermo Fisher Scientific</td>\n",
              "      <td>92</td>\n",
              "      <td>3.0</td>\n",
              "      <td>39211.0</td>\n",
              "      <td>7725.0</td>\n",
              "      <td>129000.0</td>\n",
              "      <td>Technology</td>\n",
              "      <td>Waltham</td>\n",
              "      <td>MA</td>\n",
              "      <td>no</td>\n",
              "      <td>no</td>\n",
              "      <td>no</td>\n",
              "      <td>yes</td>\n",
              "      <td>95.0</td>\n",
              "      <td>Marc Casper</td>\n",
              "      <td>https://www.thermofisher.com</td>\n",
              "      <td>TMO</td>\n",
              "      <td>202645</td>\n",
              "    </tr>\n",
              "    <tr>\n",
              "      <th>2</th>\n",
              "      <td>D.R. Horton</td>\n",
              "      <td>124</td>\n",
              "      <td>24.0</td>\n",
              "      <td>27774.2</td>\n",
              "      <td>4175.8</td>\n",
              "      <td>11788.0</td>\n",
              "      <td>Engineering &amp; Construction</td>\n",
              "      <td>Arlington</td>\n",
              "      <td>TX</td>\n",
              "      <td>no</td>\n",
              "      <td>no</td>\n",
              "      <td>no</td>\n",
              "      <td>yes</td>\n",
              "      <td>148.0</td>\n",
              "      <td>David Auld</td>\n",
              "      <td>https://www.drhorton.com</td>\n",
              "      <td>DHI</td>\n",
              "      <td>24313</td>\n",
              "    </tr>\n",
              "    <tr>\n",
              "      <th>3</th>\n",
              "      <td>Floor &amp; Decor Holdings</td>\n",
              "      <td>764</td>\n",
              "      <td>0.0</td>\n",
              "      <td>3433.5</td>\n",
              "      <td>283.2</td>\n",
              "      <td>9276.0</td>\n",
              "      <td>Retailing</td>\n",
              "      <td>Atlanta</td>\n",
              "      <td>GA</td>\n",
              "      <td>no</td>\n",
              "      <td>no</td>\n",
              "      <td>no</td>\n",
              "      <td>yes</td>\n",
              "      <td></td>\n",
              "      <td>Thomas Taylor</td>\n",
              "      <td>https://www.flooranddecor.com</td>\n",
              "      <td>FND</td>\n",
              "      <td>7490</td>\n",
              "    </tr>\n",
              "    <tr>\n",
              "      <th>4</th>\n",
              "      <td>Winnebago Industries</td>\n",
              "      <td>737</td>\n",
              "      <td>0.0</td>\n",
              "      <td>3629.8</td>\n",
              "      <td>281.9</td>\n",
              "      <td>6532.0</td>\n",
              "      <td>Motor Vehicles &amp; Parts</td>\n",
              "      <td>Eden Prairie</td>\n",
              "      <td>MN</td>\n",
              "      <td>no</td>\n",
              "      <td>no</td>\n",
              "      <td>no</td>\n",
              "      <td>yes</td>\n",
              "      <td></td>\n",
              "      <td>Michael Happe</td>\n",
              "      <td>https://www.winnebagoind.com</td>\n",
              "      <td>WGO</td>\n",
              "      <td>1826</td>\n",
              "    </tr>\n",
              "  </tbody>\n",
              "</table>\n",
              "</div>\n",
              "      <button class=\"colab-df-convert\" onclick=\"convertToInteractive('df-37da2423-23c3-4bcb-8560-3719a20b4cf0')\"\n",
              "              title=\"Convert this dataframe to an interactive table.\"\n",
              "              style=\"display:none;\">\n",
              "        \n",
              "  <svg xmlns=\"http://www.w3.org/2000/svg\" height=\"24px\"viewBox=\"0 0 24 24\"\n",
              "       width=\"24px\">\n",
              "    <path d=\"M0 0h24v24H0V0z\" fill=\"none\"/>\n",
              "    <path d=\"M18.56 5.44l.94 2.06.94-2.06 2.06-.94-2.06-.94-.94-2.06-.94 2.06-2.06.94zm-11 1L8.5 8.5l.94-2.06 2.06-.94-2.06-.94L8.5 2.5l-.94 2.06-2.06.94zm10 10l.94 2.06.94-2.06 2.06-.94-2.06-.94-.94-2.06-.94 2.06-2.06.94z\"/><path d=\"M17.41 7.96l-1.37-1.37c-.4-.4-.92-.59-1.43-.59-.52 0-1.04.2-1.43.59L10.3 9.45l-7.72 7.72c-.78.78-.78 2.05 0 2.83L4 21.41c.39.39.9.59 1.41.59.51 0 1.02-.2 1.41-.59l7.78-7.78 2.81-2.81c.8-.78.8-2.07 0-2.86zM5.41 20L4 18.59l7.72-7.72 1.47 1.35L5.41 20z\"/>\n",
              "  </svg>\n",
              "      </button>\n",
              "      \n",
              "  <style>\n",
              "    .colab-df-container {\n",
              "      display:flex;\n",
              "      flex-wrap:wrap;\n",
              "      gap: 12px;\n",
              "    }\n",
              "\n",
              "    .colab-df-convert {\n",
              "      background-color: #E8F0FE;\n",
              "      border: none;\n",
              "      border-radius: 50%;\n",
              "      cursor: pointer;\n",
              "      display: none;\n",
              "      fill: #1967D2;\n",
              "      height: 32px;\n",
              "      padding: 0 0 0 0;\n",
              "      width: 32px;\n",
              "    }\n",
              "\n",
              "    .colab-df-convert:hover {\n",
              "      background-color: #E2EBFA;\n",
              "      box-shadow: 0px 1px 2px rgba(60, 64, 67, 0.3), 0px 1px 3px 1px rgba(60, 64, 67, 0.15);\n",
              "      fill: #174EA6;\n",
              "    }\n",
              "\n",
              "    [theme=dark] .colab-df-convert {\n",
              "      background-color: #3B4455;\n",
              "      fill: #D2E3FC;\n",
              "    }\n",
              "\n",
              "    [theme=dark] .colab-df-convert:hover {\n",
              "      background-color: #434B5C;\n",
              "      box-shadow: 0px 1px 3px 1px rgba(0, 0, 0, 0.15);\n",
              "      filter: drop-shadow(0px 1px 2px rgba(0, 0, 0, 0.3));\n",
              "      fill: #FFFFFF;\n",
              "    }\n",
              "  </style>\n",
              "\n",
              "      <script>\n",
              "        const buttonEl =\n",
              "          document.querySelector('#df-37da2423-23c3-4bcb-8560-3719a20b4cf0 button.colab-df-convert');\n",
              "        buttonEl.style.display =\n",
              "          google.colab.kernel.accessAllowed ? 'block' : 'none';\n",
              "\n",
              "        async function convertToInteractive(key) {\n",
              "          const element = document.querySelector('#df-37da2423-23c3-4bcb-8560-3719a20b4cf0');\n",
              "          const dataTable =\n",
              "            await google.colab.kernel.invokeFunction('convertToInteractive',\n",
              "                                                     [key], {});\n",
              "          if (!dataTable) return;\n",
              "\n",
              "          const docLinkHtml = 'Like what you see? Visit the ' +\n",
              "            '<a target=\"_blank\" href=https://colab.research.google.com/notebooks/data_table.ipynb>data table notebook</a>'\n",
              "            + ' to learn more about interactive tables.';\n",
              "          element.innerHTML = '';\n",
              "          dataTable['output_type'] = 'display_data';\n",
              "          await google.colab.output.renderOutput(dataTable, element);\n",
              "          const docLink = document.createElement('div');\n",
              "          docLink.innerHTML = docLinkHtml;\n",
              "          element.appendChild(docLink);\n",
              "        }\n",
              "      </script>\n",
              "    </div>\n",
              "  </div>\n",
              "  "
            ]
          },
          "metadata": {},
          "execution_count": 66
        }
      ],
      "source": [
        "print(f1000_df.shape)\n",
        "f1000_df.head()"
      ]
    },
    {
      "cell_type": "markdown",
      "metadata": {
        "id": "JI4FpzS-NmoA"
      },
      "source": [
        "**Sort**"
      ]
    },
    {
      "cell_type": "code",
      "execution_count": null,
      "metadata": {
        "id": "WyECApJ3NmoA"
      },
      "outputs": [],
      "source": [
        "f1000_df = f1000_df.sort_values(by='rank', ignore_index=True)"
      ]
    },
    {
      "cell_type": "code",
      "execution_count": null,
      "metadata": {
        "id": "xXGuDbXgNmoB",
        "outputId": "474c5552-6109-48ab-97d4-560c5b784e63",
        "colab": {
          "base_uri": "https://localhost:8080/",
          "height": 392
        }
      },
      "outputs": [
        {
          "output_type": "execute_result",
          "data": {
            "text/plain": [
              "              company  rank  rank_change   revenue   profit  \\\n",
              "0             Walmart     1          0.0  572754.0  13673.0   \n",
              "1              Amazon     2          0.0  469822.0  33364.0   \n",
              "2               Apple     3          0.0  365817.0  94680.0   \n",
              "3          CVS Health     4          0.0  292111.0   7910.0   \n",
              "4  UnitedHealth Group     5          0.0  287597.0  17285.0   \n",
              "\n",
              "   num. of employees       sector         city state newcomer ceo_founder  \\\n",
              "0          2300000.0    Retailing  Bentonville    AR       no          no   \n",
              "1          1608000.0    Retailing      Seattle    WA       no          no   \n",
              "2           154000.0   Technology    Cupertino    CA       no          no   \n",
              "3           258000.0  Health Care   Woonsocket    RI       no          no   \n",
              "4           350000.0  Health Care   Minnetonka    MN       no          no   \n",
              "\n",
              "  ceo_woman profitable prev_rank                  CEO  \\\n",
              "0        no        yes       1.0  C. Douglas McMillon   \n",
              "1        no        yes       2.0      Andrew R. Jassy   \n",
              "2        no        yes       3.0      Timothy D. Cook   \n",
              "3       yes        yes       4.0          Karen Lynch   \n",
              "4        no        yes       5.0      Andrew P. Witty   \n",
              "\n",
              "                         Website Ticker Market Cap  \n",
              "0  https://www.stock.walmart.com    WMT     352037  \n",
              "1                 www.amazon.com   AMZN    1202717  \n",
              "2                  www.apple.com   AAPL    2443962  \n",
              "3      https://www.cvshealth.com    CVS     125204  \n",
              "4      www.unitedhealthgroup.com    UNH     500468  "
            ],
            "text/html": [
              "\n",
              "  <div id=\"df-7876d6d6-04ce-47b1-9984-f2ca1163f3c7\">\n",
              "    <div class=\"colab-df-container\">\n",
              "      <div>\n",
              "<style scoped>\n",
              "    .dataframe tbody tr th:only-of-type {\n",
              "        vertical-align: middle;\n",
              "    }\n",
              "\n",
              "    .dataframe tbody tr th {\n",
              "        vertical-align: top;\n",
              "    }\n",
              "\n",
              "    .dataframe thead th {\n",
              "        text-align: right;\n",
              "    }\n",
              "</style>\n",
              "<table border=\"1\" class=\"dataframe\">\n",
              "  <thead>\n",
              "    <tr style=\"text-align: right;\">\n",
              "      <th></th>\n",
              "      <th>company</th>\n",
              "      <th>rank</th>\n",
              "      <th>rank_change</th>\n",
              "      <th>revenue</th>\n",
              "      <th>profit</th>\n",
              "      <th>num. of employees</th>\n",
              "      <th>sector</th>\n",
              "      <th>city</th>\n",
              "      <th>state</th>\n",
              "      <th>newcomer</th>\n",
              "      <th>ceo_founder</th>\n",
              "      <th>ceo_woman</th>\n",
              "      <th>profitable</th>\n",
              "      <th>prev_rank</th>\n",
              "      <th>CEO</th>\n",
              "      <th>Website</th>\n",
              "      <th>Ticker</th>\n",
              "      <th>Market Cap</th>\n",
              "    </tr>\n",
              "  </thead>\n",
              "  <tbody>\n",
              "    <tr>\n",
              "      <th>0</th>\n",
              "      <td>Walmart</td>\n",
              "      <td>1</td>\n",
              "      <td>0.0</td>\n",
              "      <td>572754.0</td>\n",
              "      <td>13673.0</td>\n",
              "      <td>2300000.0</td>\n",
              "      <td>Retailing</td>\n",
              "      <td>Bentonville</td>\n",
              "      <td>AR</td>\n",
              "      <td>no</td>\n",
              "      <td>no</td>\n",
              "      <td>no</td>\n",
              "      <td>yes</td>\n",
              "      <td>1.0</td>\n",
              "      <td>C. Douglas McMillon</td>\n",
              "      <td>https://www.stock.walmart.com</td>\n",
              "      <td>WMT</td>\n",
              "      <td>352037</td>\n",
              "    </tr>\n",
              "    <tr>\n",
              "      <th>1</th>\n",
              "      <td>Amazon</td>\n",
              "      <td>2</td>\n",
              "      <td>0.0</td>\n",
              "      <td>469822.0</td>\n",
              "      <td>33364.0</td>\n",
              "      <td>1608000.0</td>\n",
              "      <td>Retailing</td>\n",
              "      <td>Seattle</td>\n",
              "      <td>WA</td>\n",
              "      <td>no</td>\n",
              "      <td>no</td>\n",
              "      <td>no</td>\n",
              "      <td>yes</td>\n",
              "      <td>2.0</td>\n",
              "      <td>Andrew R. Jassy</td>\n",
              "      <td>www.amazon.com</td>\n",
              "      <td>AMZN</td>\n",
              "      <td>1202717</td>\n",
              "    </tr>\n",
              "    <tr>\n",
              "      <th>2</th>\n",
              "      <td>Apple</td>\n",
              "      <td>3</td>\n",
              "      <td>0.0</td>\n",
              "      <td>365817.0</td>\n",
              "      <td>94680.0</td>\n",
              "      <td>154000.0</td>\n",
              "      <td>Technology</td>\n",
              "      <td>Cupertino</td>\n",
              "      <td>CA</td>\n",
              "      <td>no</td>\n",
              "      <td>no</td>\n",
              "      <td>no</td>\n",
              "      <td>yes</td>\n",
              "      <td>3.0</td>\n",
              "      <td>Timothy D. Cook</td>\n",
              "      <td>www.apple.com</td>\n",
              "      <td>AAPL</td>\n",
              "      <td>2443962</td>\n",
              "    </tr>\n",
              "    <tr>\n",
              "      <th>3</th>\n",
              "      <td>CVS Health</td>\n",
              "      <td>4</td>\n",
              "      <td>0.0</td>\n",
              "      <td>292111.0</td>\n",
              "      <td>7910.0</td>\n",
              "      <td>258000.0</td>\n",
              "      <td>Health Care</td>\n",
              "      <td>Woonsocket</td>\n",
              "      <td>RI</td>\n",
              "      <td>no</td>\n",
              "      <td>no</td>\n",
              "      <td>yes</td>\n",
              "      <td>yes</td>\n",
              "      <td>4.0</td>\n",
              "      <td>Karen Lynch</td>\n",
              "      <td>https://www.cvshealth.com</td>\n",
              "      <td>CVS</td>\n",
              "      <td>125204</td>\n",
              "    </tr>\n",
              "    <tr>\n",
              "      <th>4</th>\n",
              "      <td>UnitedHealth Group</td>\n",
              "      <td>5</td>\n",
              "      <td>0.0</td>\n",
              "      <td>287597.0</td>\n",
              "      <td>17285.0</td>\n",
              "      <td>350000.0</td>\n",
              "      <td>Health Care</td>\n",
              "      <td>Minnetonka</td>\n",
              "      <td>MN</td>\n",
              "      <td>no</td>\n",
              "      <td>no</td>\n",
              "      <td>no</td>\n",
              "      <td>yes</td>\n",
              "      <td>5.0</td>\n",
              "      <td>Andrew P. Witty</td>\n",
              "      <td>www.unitedhealthgroup.com</td>\n",
              "      <td>UNH</td>\n",
              "      <td>500468</td>\n",
              "    </tr>\n",
              "  </tbody>\n",
              "</table>\n",
              "</div>\n",
              "      <button class=\"colab-df-convert\" onclick=\"convertToInteractive('df-7876d6d6-04ce-47b1-9984-f2ca1163f3c7')\"\n",
              "              title=\"Convert this dataframe to an interactive table.\"\n",
              "              style=\"display:none;\">\n",
              "        \n",
              "  <svg xmlns=\"http://www.w3.org/2000/svg\" height=\"24px\"viewBox=\"0 0 24 24\"\n",
              "       width=\"24px\">\n",
              "    <path d=\"M0 0h24v24H0V0z\" fill=\"none\"/>\n",
              "    <path d=\"M18.56 5.44l.94 2.06.94-2.06 2.06-.94-2.06-.94-.94-2.06-.94 2.06-2.06.94zm-11 1L8.5 8.5l.94-2.06 2.06-.94-2.06-.94L8.5 2.5l-.94 2.06-2.06.94zm10 10l.94 2.06.94-2.06 2.06-.94-2.06-.94-.94-2.06-.94 2.06-2.06.94z\"/><path d=\"M17.41 7.96l-1.37-1.37c-.4-.4-.92-.59-1.43-.59-.52 0-1.04.2-1.43.59L10.3 9.45l-7.72 7.72c-.78.78-.78 2.05 0 2.83L4 21.41c.39.39.9.59 1.41.59.51 0 1.02-.2 1.41-.59l7.78-7.78 2.81-2.81c.8-.78.8-2.07 0-2.86zM5.41 20L4 18.59l7.72-7.72 1.47 1.35L5.41 20z\"/>\n",
              "  </svg>\n",
              "      </button>\n",
              "      \n",
              "  <style>\n",
              "    .colab-df-container {\n",
              "      display:flex;\n",
              "      flex-wrap:wrap;\n",
              "      gap: 12px;\n",
              "    }\n",
              "\n",
              "    .colab-df-convert {\n",
              "      background-color: #E8F0FE;\n",
              "      border: none;\n",
              "      border-radius: 50%;\n",
              "      cursor: pointer;\n",
              "      display: none;\n",
              "      fill: #1967D2;\n",
              "      height: 32px;\n",
              "      padding: 0 0 0 0;\n",
              "      width: 32px;\n",
              "    }\n",
              "\n",
              "    .colab-df-convert:hover {\n",
              "      background-color: #E2EBFA;\n",
              "      box-shadow: 0px 1px 2px rgba(60, 64, 67, 0.3), 0px 1px 3px 1px rgba(60, 64, 67, 0.15);\n",
              "      fill: #174EA6;\n",
              "    }\n",
              "\n",
              "    [theme=dark] .colab-df-convert {\n",
              "      background-color: #3B4455;\n",
              "      fill: #D2E3FC;\n",
              "    }\n",
              "\n",
              "    [theme=dark] .colab-df-convert:hover {\n",
              "      background-color: #434B5C;\n",
              "      box-shadow: 0px 1px 3px 1px rgba(0, 0, 0, 0.15);\n",
              "      filter: drop-shadow(0px 1px 2px rgba(0, 0, 0, 0.3));\n",
              "      fill: #FFFFFF;\n",
              "    }\n",
              "  </style>\n",
              "\n",
              "      <script>\n",
              "        const buttonEl =\n",
              "          document.querySelector('#df-7876d6d6-04ce-47b1-9984-f2ca1163f3c7 button.colab-df-convert');\n",
              "        buttonEl.style.display =\n",
              "          google.colab.kernel.accessAllowed ? 'block' : 'none';\n",
              "\n",
              "        async function convertToInteractive(key) {\n",
              "          const element = document.querySelector('#df-7876d6d6-04ce-47b1-9984-f2ca1163f3c7');\n",
              "          const dataTable =\n",
              "            await google.colab.kernel.invokeFunction('convertToInteractive',\n",
              "                                                     [key], {});\n",
              "          if (!dataTable) return;\n",
              "\n",
              "          const docLinkHtml = 'Like what you see? Visit the ' +\n",
              "            '<a target=\"_blank\" href=https://colab.research.google.com/notebooks/data_table.ipynb>data table notebook</a>'\n",
              "            + ' to learn more about interactive tables.';\n",
              "          element.innerHTML = '';\n",
              "          dataTable['output_type'] = 'display_data';\n",
              "          await google.colab.output.renderOutput(dataTable, element);\n",
              "          const docLink = document.createElement('div');\n",
              "          docLink.innerHTML = docLinkHtml;\n",
              "          element.appendChild(docLink);\n",
              "        }\n",
              "      </script>\n",
              "    </div>\n",
              "  </div>\n",
              "  "
            ]
          },
          "metadata": {},
          "execution_count": 68
        }
      ],
      "source": [
        "f1000_df.head()"
      ]
    },
    {
      "cell_type": "markdown",
      "metadata": {
        "id": "hN29lDwZNmoB"
      },
      "source": [
        "# Conclusion\n",
        "\n",
        "Finally, we have our complete Fortune 500 dataset and we can create our csv file. "
      ]
    },
    {
      "cell_type": "code",
      "execution_count": null,
      "metadata": {
        "id": "Zehn75vUNmoB"
      },
      "outputs": [],
      "source": [
        "f1000_df.to_csv(\"Fortune_1000.csv\", index=False)"
      ]
    },
    {
      "cell_type": "markdown",
      "source": [
        "#Data Analysis\n",
        "\n",
        "Validating the data using matplotlib"
      ],
      "metadata": {
        "id": "eMBdrcCif2li"
      }
    },
    {
      "cell_type": "markdown",
      "source": [],
      "metadata": {
        "id": "Rwzv2H16f6wX"
      }
    },
    {
      "cell_type": "code",
      "source": [
        "f1000_df.head()"
      ],
      "metadata": {
        "colab": {
          "base_uri": "https://localhost:8080/",
          "height": 392
        },
        "id": "9XGGWjBMgCip",
        "outputId": "f79961bd-a304-474e-da40-d6b9fe52edb2"
      },
      "execution_count": null,
      "outputs": [
        {
          "output_type": "execute_result",
          "data": {
            "text/plain": [
              "              company  rank  rank_change   revenue   profit  \\\n",
              "0             Walmart     1          0.0  572754.0  13673.0   \n",
              "1              Amazon     2          0.0  469822.0  33364.0   \n",
              "2               Apple     3          0.0  365817.0  94680.0   \n",
              "3          CVS Health     4          0.0  292111.0   7910.0   \n",
              "4  UnitedHealth Group     5          0.0  287597.0  17285.0   \n",
              "\n",
              "   num. of employees       sector         city state newcomer ceo_founder  \\\n",
              "0          2300000.0    Retailing  Bentonville    AR       no          no   \n",
              "1          1608000.0    Retailing      Seattle    WA       no          no   \n",
              "2           154000.0   Technology    Cupertino    CA       no          no   \n",
              "3           258000.0  Health Care   Woonsocket    RI       no          no   \n",
              "4           350000.0  Health Care   Minnetonka    MN       no          no   \n",
              "\n",
              "  ceo_woman profitable prev_rank                  CEO  \\\n",
              "0        no        yes       1.0  C. Douglas McMillon   \n",
              "1        no        yes       2.0      Andrew R. Jassy   \n",
              "2        no        yes       3.0      Timothy D. Cook   \n",
              "3       yes        yes       4.0          Karen Lynch   \n",
              "4        no        yes       5.0      Andrew P. Witty   \n",
              "\n",
              "                         Website Ticker Market Cap  \n",
              "0  https://www.stock.walmart.com    WMT     352037  \n",
              "1                 www.amazon.com   AMZN    1202717  \n",
              "2                  www.apple.com   AAPL    2443962  \n",
              "3      https://www.cvshealth.com    CVS     125204  \n",
              "4      www.unitedhealthgroup.com    UNH     500468  "
            ],
            "text/html": [
              "\n",
              "  <div id=\"df-53d0dd34-7b30-4612-9ddf-cd2a269f38f9\">\n",
              "    <div class=\"colab-df-container\">\n",
              "      <div>\n",
              "<style scoped>\n",
              "    .dataframe tbody tr th:only-of-type {\n",
              "        vertical-align: middle;\n",
              "    }\n",
              "\n",
              "    .dataframe tbody tr th {\n",
              "        vertical-align: top;\n",
              "    }\n",
              "\n",
              "    .dataframe thead th {\n",
              "        text-align: right;\n",
              "    }\n",
              "</style>\n",
              "<table border=\"1\" class=\"dataframe\">\n",
              "  <thead>\n",
              "    <tr style=\"text-align: right;\">\n",
              "      <th></th>\n",
              "      <th>company</th>\n",
              "      <th>rank</th>\n",
              "      <th>rank_change</th>\n",
              "      <th>revenue</th>\n",
              "      <th>profit</th>\n",
              "      <th>num. of employees</th>\n",
              "      <th>sector</th>\n",
              "      <th>city</th>\n",
              "      <th>state</th>\n",
              "      <th>newcomer</th>\n",
              "      <th>ceo_founder</th>\n",
              "      <th>ceo_woman</th>\n",
              "      <th>profitable</th>\n",
              "      <th>prev_rank</th>\n",
              "      <th>CEO</th>\n",
              "      <th>Website</th>\n",
              "      <th>Ticker</th>\n",
              "      <th>Market Cap</th>\n",
              "    </tr>\n",
              "  </thead>\n",
              "  <tbody>\n",
              "    <tr>\n",
              "      <th>0</th>\n",
              "      <td>Walmart</td>\n",
              "      <td>1</td>\n",
              "      <td>0.0</td>\n",
              "      <td>572754.0</td>\n",
              "      <td>13673.0</td>\n",
              "      <td>2300000.0</td>\n",
              "      <td>Retailing</td>\n",
              "      <td>Bentonville</td>\n",
              "      <td>AR</td>\n",
              "      <td>no</td>\n",
              "      <td>no</td>\n",
              "      <td>no</td>\n",
              "      <td>yes</td>\n",
              "      <td>1.0</td>\n",
              "      <td>C. Douglas McMillon</td>\n",
              "      <td>https://www.stock.walmart.com</td>\n",
              "      <td>WMT</td>\n",
              "      <td>352037</td>\n",
              "    </tr>\n",
              "    <tr>\n",
              "      <th>1</th>\n",
              "      <td>Amazon</td>\n",
              "      <td>2</td>\n",
              "      <td>0.0</td>\n",
              "      <td>469822.0</td>\n",
              "      <td>33364.0</td>\n",
              "      <td>1608000.0</td>\n",
              "      <td>Retailing</td>\n",
              "      <td>Seattle</td>\n",
              "      <td>WA</td>\n",
              "      <td>no</td>\n",
              "      <td>no</td>\n",
              "      <td>no</td>\n",
              "      <td>yes</td>\n",
              "      <td>2.0</td>\n",
              "      <td>Andrew R. Jassy</td>\n",
              "      <td>www.amazon.com</td>\n",
              "      <td>AMZN</td>\n",
              "      <td>1202717</td>\n",
              "    </tr>\n",
              "    <tr>\n",
              "      <th>2</th>\n",
              "      <td>Apple</td>\n",
              "      <td>3</td>\n",
              "      <td>0.0</td>\n",
              "      <td>365817.0</td>\n",
              "      <td>94680.0</td>\n",
              "      <td>154000.0</td>\n",
              "      <td>Technology</td>\n",
              "      <td>Cupertino</td>\n",
              "      <td>CA</td>\n",
              "      <td>no</td>\n",
              "      <td>no</td>\n",
              "      <td>no</td>\n",
              "      <td>yes</td>\n",
              "      <td>3.0</td>\n",
              "      <td>Timothy D. Cook</td>\n",
              "      <td>www.apple.com</td>\n",
              "      <td>AAPL</td>\n",
              "      <td>2443962</td>\n",
              "    </tr>\n",
              "    <tr>\n",
              "      <th>3</th>\n",
              "      <td>CVS Health</td>\n",
              "      <td>4</td>\n",
              "      <td>0.0</td>\n",
              "      <td>292111.0</td>\n",
              "      <td>7910.0</td>\n",
              "      <td>258000.0</td>\n",
              "      <td>Health Care</td>\n",
              "      <td>Woonsocket</td>\n",
              "      <td>RI</td>\n",
              "      <td>no</td>\n",
              "      <td>no</td>\n",
              "      <td>yes</td>\n",
              "      <td>yes</td>\n",
              "      <td>4.0</td>\n",
              "      <td>Karen Lynch</td>\n",
              "      <td>https://www.cvshealth.com</td>\n",
              "      <td>CVS</td>\n",
              "      <td>125204</td>\n",
              "    </tr>\n",
              "    <tr>\n",
              "      <th>4</th>\n",
              "      <td>UnitedHealth Group</td>\n",
              "      <td>5</td>\n",
              "      <td>0.0</td>\n",
              "      <td>287597.0</td>\n",
              "      <td>17285.0</td>\n",
              "      <td>350000.0</td>\n",
              "      <td>Health Care</td>\n",
              "      <td>Minnetonka</td>\n",
              "      <td>MN</td>\n",
              "      <td>no</td>\n",
              "      <td>no</td>\n",
              "      <td>no</td>\n",
              "      <td>yes</td>\n",
              "      <td>5.0</td>\n",
              "      <td>Andrew P. Witty</td>\n",
              "      <td>www.unitedhealthgroup.com</td>\n",
              "      <td>UNH</td>\n",
              "      <td>500468</td>\n",
              "    </tr>\n",
              "  </tbody>\n",
              "</table>\n",
              "</div>\n",
              "      <button class=\"colab-df-convert\" onclick=\"convertToInteractive('df-53d0dd34-7b30-4612-9ddf-cd2a269f38f9')\"\n",
              "              title=\"Convert this dataframe to an interactive table.\"\n",
              "              style=\"display:none;\">\n",
              "        \n",
              "  <svg xmlns=\"http://www.w3.org/2000/svg\" height=\"24px\"viewBox=\"0 0 24 24\"\n",
              "       width=\"24px\">\n",
              "    <path d=\"M0 0h24v24H0V0z\" fill=\"none\"/>\n",
              "    <path d=\"M18.56 5.44l.94 2.06.94-2.06 2.06-.94-2.06-.94-.94-2.06-.94 2.06-2.06.94zm-11 1L8.5 8.5l.94-2.06 2.06-.94-2.06-.94L8.5 2.5l-.94 2.06-2.06.94zm10 10l.94 2.06.94-2.06 2.06-.94-2.06-.94-.94-2.06-.94 2.06-2.06.94z\"/><path d=\"M17.41 7.96l-1.37-1.37c-.4-.4-.92-.59-1.43-.59-.52 0-1.04.2-1.43.59L10.3 9.45l-7.72 7.72c-.78.78-.78 2.05 0 2.83L4 21.41c.39.39.9.59 1.41.59.51 0 1.02-.2 1.41-.59l7.78-7.78 2.81-2.81c.8-.78.8-2.07 0-2.86zM5.41 20L4 18.59l7.72-7.72 1.47 1.35L5.41 20z\"/>\n",
              "  </svg>\n",
              "      </button>\n",
              "      \n",
              "  <style>\n",
              "    .colab-df-container {\n",
              "      display:flex;\n",
              "      flex-wrap:wrap;\n",
              "      gap: 12px;\n",
              "    }\n",
              "\n",
              "    .colab-df-convert {\n",
              "      background-color: #E8F0FE;\n",
              "      border: none;\n",
              "      border-radius: 50%;\n",
              "      cursor: pointer;\n",
              "      display: none;\n",
              "      fill: #1967D2;\n",
              "      height: 32px;\n",
              "      padding: 0 0 0 0;\n",
              "      width: 32px;\n",
              "    }\n",
              "\n",
              "    .colab-df-convert:hover {\n",
              "      background-color: #E2EBFA;\n",
              "      box-shadow: 0px 1px 2px rgba(60, 64, 67, 0.3), 0px 1px 3px 1px rgba(60, 64, 67, 0.15);\n",
              "      fill: #174EA6;\n",
              "    }\n",
              "\n",
              "    [theme=dark] .colab-df-convert {\n",
              "      background-color: #3B4455;\n",
              "      fill: #D2E3FC;\n",
              "    }\n",
              "\n",
              "    [theme=dark] .colab-df-convert:hover {\n",
              "      background-color: #434B5C;\n",
              "      box-shadow: 0px 1px 3px 1px rgba(0, 0, 0, 0.15);\n",
              "      filter: drop-shadow(0px 1px 2px rgba(0, 0, 0, 0.3));\n",
              "      fill: #FFFFFF;\n",
              "    }\n",
              "  </style>\n",
              "\n",
              "      <script>\n",
              "        const buttonEl =\n",
              "          document.querySelector('#df-53d0dd34-7b30-4612-9ddf-cd2a269f38f9 button.colab-df-convert');\n",
              "        buttonEl.style.display =\n",
              "          google.colab.kernel.accessAllowed ? 'block' : 'none';\n",
              "\n",
              "        async function convertToInteractive(key) {\n",
              "          const element = document.querySelector('#df-53d0dd34-7b30-4612-9ddf-cd2a269f38f9');\n",
              "          const dataTable =\n",
              "            await google.colab.kernel.invokeFunction('convertToInteractive',\n",
              "                                                     [key], {});\n",
              "          if (!dataTable) return;\n",
              "\n",
              "          const docLinkHtml = 'Like what you see? Visit the ' +\n",
              "            '<a target=\"_blank\" href=https://colab.research.google.com/notebooks/data_table.ipynb>data table notebook</a>'\n",
              "            + ' to learn more about interactive tables.';\n",
              "          element.innerHTML = '';\n",
              "          dataTable['output_type'] = 'display_data';\n",
              "          await google.colab.output.renderOutput(dataTable, element);\n",
              "          const docLink = document.createElement('div');\n",
              "          docLink.innerHTML = docLinkHtml;\n",
              "          element.appendChild(docLink);\n",
              "        }\n",
              "      </script>\n",
              "    </div>\n",
              "  </div>\n",
              "  "
            ]
          },
          "metadata": {},
          "execution_count": 80
        }
      ]
    },
    {
      "cell_type": "code",
      "source": [
        "print(f1000_df.dtypes)"
      ],
      "metadata": {
        "id": "S9kF-VhVgTH4"
      },
      "execution_count": null,
      "outputs": []
    },
    {
      "cell_type": "code",
      "source": [
        "f1000_df.rename(columns = {'num. of employees':'empCount'}, inplace = True)\n",
        "f1000_df.rename(columns = {'Market Cap':'MarketCap'}, inplace = True)"
      ],
      "metadata": {
        "id": "Sb4qUp8Xj7bF"
      },
      "execution_count": null,
      "outputs": []
    },
    {
      "cell_type": "code",
      "source": [
        "f1000_df['empCount'] = f1000_df['empCount'].replace(np.nan, 0) \n",
        "f1000_df['profit'] = f1000_df['profit'].replace(np.nan, 0) \n",
        "f1000_df['rank_change'] = f1000_df['rank_change'].replace(np.nan, 0)\n",
        "f1000_df['revenue'] = f1000_df['revenue'].replace(np.nan, 0)\n",
        "f1000_df['prev_rank'] = f1000_df['prev_rank'].replace(np.nan, 0)\n",
        "f1000_df['prev_rank'] = f1000_df['prev_rank'].replace(' ', 0)\n",
        "f1000_df['MarketCap'] = f1000_df['MarketCap'].replace(np.nan, 0)\n",
        "f1000_df['MarketCap'] = f1000_df['MarketCap'].replace(' ', 0)\n",
        "f1000_df['MarketCap'] = f1000_df['MarketCap'].replace('-', 0)"
      ],
      "metadata": {
        "colab": {
          "base_uri": "https://localhost:8080/",
          "height": 661
        },
        "id": "4VjGETI9mXGo",
        "outputId": "9ec46fcc-1639-4d47-abc1-80207bd43f09"
      },
      "execution_count": null,
      "outputs": [
        {
          "output_type": "execute_result",
          "data": {
            "text/plain": [
              "                company  rank  rank_change  revenue  profit  empCount  \\\n",
              "0               Walmart     1            0   572754   13673   2300000   \n",
              "1                Amazon     2            0   469822   33364   1608000   \n",
              "2                 Apple     3            0   365817   94680    154000   \n",
              "3            CVS Health     4            0   292111    7910    258000   \n",
              "4    UnitedHealth Group     5            0   287597   17285    350000   \n",
              "..                  ...   ...          ...      ...     ...       ...   \n",
              "995       Vizio Holding   996            0     2124     -39       800   \n",
              "996   1-800-Flowers.com   997            0     2122     118      4800   \n",
              "997               Cowen   998            0     2112     295      1534   \n",
              "998             Ashland   999            0     2111     220      4100   \n",
              "999            DocuSign  1000            0     2107     -70      7461   \n",
              "\n",
              "          sector           city state newcomer ceo_founder ceo_woman  \\\n",
              "0      Retailing    Bentonville    AR       no          no        no   \n",
              "1      Retailing        Seattle    WA       no          no        no   \n",
              "2     Technology      Cupertino    CA       no          no        no   \n",
              "3    Health Care     Woonsocket    RI       no          no       yes   \n",
              "4    Health Care     Minnetonka    MN       no          no        no   \n",
              "..           ...            ...   ...      ...         ...       ...   \n",
              "995  Industrials         Irvine    CA       no         yes        no   \n",
              "996    Retailing        Jericho    NY       no          no        no   \n",
              "997   Financials       New York    NY       no          no        no   \n",
              "998    Chemicals     Wilmington    DE       no          no        no   \n",
              "999   Technology  San Francisco    CA       no          no        no   \n",
              "\n",
              "    profitable  prev_rank                    CEO  \\\n",
              "0          yes          1    C. Douglas McMillon   \n",
              "1          yes          2        Andrew R. Jassy   \n",
              "2          yes          3        Timothy D. Cook   \n",
              "3          yes          4            Karen Lynch   \n",
              "4          yes          5        Andrew P. Witty   \n",
              "..         ...        ...                    ...   \n",
              "995         no          0        William W. Wang   \n",
              "996        yes          0  Christopher G. McCann   \n",
              "997        yes          0        Jeffrey Solomon   \n",
              "998        yes          0         Guillermo Novo   \n",
              "999         no          0      Allan C. Thygesen   \n",
              "\n",
              "                           Website Ticker MarketCap  \n",
              "0    https://www.stock.walmart.com    WMT    352037  \n",
              "1                   www.amazon.com   AMZN   1202717  \n",
              "2                    www.apple.com   AAPL   2443962  \n",
              "3        https://www.cvshealth.com    CVS    125204  \n",
              "4        www.unitedhealthgroup.com    UNH    500468  \n",
              "..                             ...    ...       ...  \n",
              "995          https://www.vizio.com   VZIO    1705.1  \n",
              "996    https://www.1800flowers.com   FLWS       830  \n",
              "997          https://www.cowen.com   COWN      1078  \n",
              "998        https://www.ashland.com    ASH    5601.9  \n",
              "999       https://www.docusign.com   DOCU   21302.8  \n",
              "\n",
              "[1000 rows x 18 columns]"
            ],
            "text/html": [
              "\n",
              "  <div id=\"df-c43e1e17-5d6a-4fa7-baad-2f3567dd52e4\">\n",
              "    <div class=\"colab-df-container\">\n",
              "      <div>\n",
              "<style scoped>\n",
              "    .dataframe tbody tr th:only-of-type {\n",
              "        vertical-align: middle;\n",
              "    }\n",
              "\n",
              "    .dataframe tbody tr th {\n",
              "        vertical-align: top;\n",
              "    }\n",
              "\n",
              "    .dataframe thead th {\n",
              "        text-align: right;\n",
              "    }\n",
              "</style>\n",
              "<table border=\"1\" class=\"dataframe\">\n",
              "  <thead>\n",
              "    <tr style=\"text-align: right;\">\n",
              "      <th></th>\n",
              "      <th>company</th>\n",
              "      <th>rank</th>\n",
              "      <th>rank_change</th>\n",
              "      <th>revenue</th>\n",
              "      <th>profit</th>\n",
              "      <th>empCount</th>\n",
              "      <th>sector</th>\n",
              "      <th>city</th>\n",
              "      <th>state</th>\n",
              "      <th>newcomer</th>\n",
              "      <th>ceo_founder</th>\n",
              "      <th>ceo_woman</th>\n",
              "      <th>profitable</th>\n",
              "      <th>prev_rank</th>\n",
              "      <th>CEO</th>\n",
              "      <th>Website</th>\n",
              "      <th>Ticker</th>\n",
              "      <th>MarketCap</th>\n",
              "    </tr>\n",
              "  </thead>\n",
              "  <tbody>\n",
              "    <tr>\n",
              "      <th>0</th>\n",
              "      <td>Walmart</td>\n",
              "      <td>1</td>\n",
              "      <td>0</td>\n",
              "      <td>572754</td>\n",
              "      <td>13673</td>\n",
              "      <td>2300000</td>\n",
              "      <td>Retailing</td>\n",
              "      <td>Bentonville</td>\n",
              "      <td>AR</td>\n",
              "      <td>no</td>\n",
              "      <td>no</td>\n",
              "      <td>no</td>\n",
              "      <td>yes</td>\n",
              "      <td>1</td>\n",
              "      <td>C. Douglas McMillon</td>\n",
              "      <td>https://www.stock.walmart.com</td>\n",
              "      <td>WMT</td>\n",
              "      <td>352037</td>\n",
              "    </tr>\n",
              "    <tr>\n",
              "      <th>1</th>\n",
              "      <td>Amazon</td>\n",
              "      <td>2</td>\n",
              "      <td>0</td>\n",
              "      <td>469822</td>\n",
              "      <td>33364</td>\n",
              "      <td>1608000</td>\n",
              "      <td>Retailing</td>\n",
              "      <td>Seattle</td>\n",
              "      <td>WA</td>\n",
              "      <td>no</td>\n",
              "      <td>no</td>\n",
              "      <td>no</td>\n",
              "      <td>yes</td>\n",
              "      <td>2</td>\n",
              "      <td>Andrew R. Jassy</td>\n",
              "      <td>www.amazon.com</td>\n",
              "      <td>AMZN</td>\n",
              "      <td>1202717</td>\n",
              "    </tr>\n",
              "    <tr>\n",
              "      <th>2</th>\n",
              "      <td>Apple</td>\n",
              "      <td>3</td>\n",
              "      <td>0</td>\n",
              "      <td>365817</td>\n",
              "      <td>94680</td>\n",
              "      <td>154000</td>\n",
              "      <td>Technology</td>\n",
              "      <td>Cupertino</td>\n",
              "      <td>CA</td>\n",
              "      <td>no</td>\n",
              "      <td>no</td>\n",
              "      <td>no</td>\n",
              "      <td>yes</td>\n",
              "      <td>3</td>\n",
              "      <td>Timothy D. Cook</td>\n",
              "      <td>www.apple.com</td>\n",
              "      <td>AAPL</td>\n",
              "      <td>2443962</td>\n",
              "    </tr>\n",
              "    <tr>\n",
              "      <th>3</th>\n",
              "      <td>CVS Health</td>\n",
              "      <td>4</td>\n",
              "      <td>0</td>\n",
              "      <td>292111</td>\n",
              "      <td>7910</td>\n",
              "      <td>258000</td>\n",
              "      <td>Health Care</td>\n",
              "      <td>Woonsocket</td>\n",
              "      <td>RI</td>\n",
              "      <td>no</td>\n",
              "      <td>no</td>\n",
              "      <td>yes</td>\n",
              "      <td>yes</td>\n",
              "      <td>4</td>\n",
              "      <td>Karen Lynch</td>\n",
              "      <td>https://www.cvshealth.com</td>\n",
              "      <td>CVS</td>\n",
              "      <td>125204</td>\n",
              "    </tr>\n",
              "    <tr>\n",
              "      <th>4</th>\n",
              "      <td>UnitedHealth Group</td>\n",
              "      <td>5</td>\n",
              "      <td>0</td>\n",
              "      <td>287597</td>\n",
              "      <td>17285</td>\n",
              "      <td>350000</td>\n",
              "      <td>Health Care</td>\n",
              "      <td>Minnetonka</td>\n",
              "      <td>MN</td>\n",
              "      <td>no</td>\n",
              "      <td>no</td>\n",
              "      <td>no</td>\n",
              "      <td>yes</td>\n",
              "      <td>5</td>\n",
              "      <td>Andrew P. Witty</td>\n",
              "      <td>www.unitedhealthgroup.com</td>\n",
              "      <td>UNH</td>\n",
              "      <td>500468</td>\n",
              "    </tr>\n",
              "    <tr>\n",
              "      <th>...</th>\n",
              "      <td>...</td>\n",
              "      <td>...</td>\n",
              "      <td>...</td>\n",
              "      <td>...</td>\n",
              "      <td>...</td>\n",
              "      <td>...</td>\n",
              "      <td>...</td>\n",
              "      <td>...</td>\n",
              "      <td>...</td>\n",
              "      <td>...</td>\n",
              "      <td>...</td>\n",
              "      <td>...</td>\n",
              "      <td>...</td>\n",
              "      <td>...</td>\n",
              "      <td>...</td>\n",
              "      <td>...</td>\n",
              "      <td>...</td>\n",
              "      <td>...</td>\n",
              "    </tr>\n",
              "    <tr>\n",
              "      <th>995</th>\n",
              "      <td>Vizio Holding</td>\n",
              "      <td>996</td>\n",
              "      <td>0</td>\n",
              "      <td>2124</td>\n",
              "      <td>-39</td>\n",
              "      <td>800</td>\n",
              "      <td>Industrials</td>\n",
              "      <td>Irvine</td>\n",
              "      <td>CA</td>\n",
              "      <td>no</td>\n",
              "      <td>yes</td>\n",
              "      <td>no</td>\n",
              "      <td>no</td>\n",
              "      <td>0</td>\n",
              "      <td>William W. Wang</td>\n",
              "      <td>https://www.vizio.com</td>\n",
              "      <td>VZIO</td>\n",
              "      <td>1705.1</td>\n",
              "    </tr>\n",
              "    <tr>\n",
              "      <th>996</th>\n",
              "      <td>1-800-Flowers.com</td>\n",
              "      <td>997</td>\n",
              "      <td>0</td>\n",
              "      <td>2122</td>\n",
              "      <td>118</td>\n",
              "      <td>4800</td>\n",
              "      <td>Retailing</td>\n",
              "      <td>Jericho</td>\n",
              "      <td>NY</td>\n",
              "      <td>no</td>\n",
              "      <td>no</td>\n",
              "      <td>no</td>\n",
              "      <td>yes</td>\n",
              "      <td>0</td>\n",
              "      <td>Christopher G. McCann</td>\n",
              "      <td>https://www.1800flowers.com</td>\n",
              "      <td>FLWS</td>\n",
              "      <td>830</td>\n",
              "    </tr>\n",
              "    <tr>\n",
              "      <th>997</th>\n",
              "      <td>Cowen</td>\n",
              "      <td>998</td>\n",
              "      <td>0</td>\n",
              "      <td>2112</td>\n",
              "      <td>295</td>\n",
              "      <td>1534</td>\n",
              "      <td>Financials</td>\n",
              "      <td>New York</td>\n",
              "      <td>NY</td>\n",
              "      <td>no</td>\n",
              "      <td>no</td>\n",
              "      <td>no</td>\n",
              "      <td>yes</td>\n",
              "      <td>0</td>\n",
              "      <td>Jeffrey Solomon</td>\n",
              "      <td>https://www.cowen.com</td>\n",
              "      <td>COWN</td>\n",
              "      <td>1078</td>\n",
              "    </tr>\n",
              "    <tr>\n",
              "      <th>998</th>\n",
              "      <td>Ashland</td>\n",
              "      <td>999</td>\n",
              "      <td>0</td>\n",
              "      <td>2111</td>\n",
              "      <td>220</td>\n",
              "      <td>4100</td>\n",
              "      <td>Chemicals</td>\n",
              "      <td>Wilmington</td>\n",
              "      <td>DE</td>\n",
              "      <td>no</td>\n",
              "      <td>no</td>\n",
              "      <td>no</td>\n",
              "      <td>yes</td>\n",
              "      <td>0</td>\n",
              "      <td>Guillermo Novo</td>\n",
              "      <td>https://www.ashland.com</td>\n",
              "      <td>ASH</td>\n",
              "      <td>5601.9</td>\n",
              "    </tr>\n",
              "    <tr>\n",
              "      <th>999</th>\n",
              "      <td>DocuSign</td>\n",
              "      <td>1000</td>\n",
              "      <td>0</td>\n",
              "      <td>2107</td>\n",
              "      <td>-70</td>\n",
              "      <td>7461</td>\n",
              "      <td>Technology</td>\n",
              "      <td>San Francisco</td>\n",
              "      <td>CA</td>\n",
              "      <td>no</td>\n",
              "      <td>no</td>\n",
              "      <td>no</td>\n",
              "      <td>no</td>\n",
              "      <td>0</td>\n",
              "      <td>Allan C. Thygesen</td>\n",
              "      <td>https://www.docusign.com</td>\n",
              "      <td>DOCU</td>\n",
              "      <td>21302.8</td>\n",
              "    </tr>\n",
              "  </tbody>\n",
              "</table>\n",
              "<p>1000 rows × 18 columns</p>\n",
              "</div>\n",
              "      <button class=\"colab-df-convert\" onclick=\"convertToInteractive('df-c43e1e17-5d6a-4fa7-baad-2f3567dd52e4')\"\n",
              "              title=\"Convert this dataframe to an interactive table.\"\n",
              "              style=\"display:none;\">\n",
              "        \n",
              "  <svg xmlns=\"http://www.w3.org/2000/svg\" height=\"24px\"viewBox=\"0 0 24 24\"\n",
              "       width=\"24px\">\n",
              "    <path d=\"M0 0h24v24H0V0z\" fill=\"none\"/>\n",
              "    <path d=\"M18.56 5.44l.94 2.06.94-2.06 2.06-.94-2.06-.94-.94-2.06-.94 2.06-2.06.94zm-11 1L8.5 8.5l.94-2.06 2.06-.94-2.06-.94L8.5 2.5l-.94 2.06-2.06.94zm10 10l.94 2.06.94-2.06 2.06-.94-2.06-.94-.94-2.06-.94 2.06-2.06.94z\"/><path d=\"M17.41 7.96l-1.37-1.37c-.4-.4-.92-.59-1.43-.59-.52 0-1.04.2-1.43.59L10.3 9.45l-7.72 7.72c-.78.78-.78 2.05 0 2.83L4 21.41c.39.39.9.59 1.41.59.51 0 1.02-.2 1.41-.59l7.78-7.78 2.81-2.81c.8-.78.8-2.07 0-2.86zM5.41 20L4 18.59l7.72-7.72 1.47 1.35L5.41 20z\"/>\n",
              "  </svg>\n",
              "      </button>\n",
              "      \n",
              "  <style>\n",
              "    .colab-df-container {\n",
              "      display:flex;\n",
              "      flex-wrap:wrap;\n",
              "      gap: 12px;\n",
              "    }\n",
              "\n",
              "    .colab-df-convert {\n",
              "      background-color: #E8F0FE;\n",
              "      border: none;\n",
              "      border-radius: 50%;\n",
              "      cursor: pointer;\n",
              "      display: none;\n",
              "      fill: #1967D2;\n",
              "      height: 32px;\n",
              "      padding: 0 0 0 0;\n",
              "      width: 32px;\n",
              "    }\n",
              "\n",
              "    .colab-df-convert:hover {\n",
              "      background-color: #E2EBFA;\n",
              "      box-shadow: 0px 1px 2px rgba(60, 64, 67, 0.3), 0px 1px 3px 1px rgba(60, 64, 67, 0.15);\n",
              "      fill: #174EA6;\n",
              "    }\n",
              "\n",
              "    [theme=dark] .colab-df-convert {\n",
              "      background-color: #3B4455;\n",
              "      fill: #D2E3FC;\n",
              "    }\n",
              "\n",
              "    [theme=dark] .colab-df-convert:hover {\n",
              "      background-color: #434B5C;\n",
              "      box-shadow: 0px 1px 3px 1px rgba(0, 0, 0, 0.15);\n",
              "      filter: drop-shadow(0px 1px 2px rgba(0, 0, 0, 0.3));\n",
              "      fill: #FFFFFF;\n",
              "    }\n",
              "  </style>\n",
              "\n",
              "      <script>\n",
              "        const buttonEl =\n",
              "          document.querySelector('#df-c43e1e17-5d6a-4fa7-baad-2f3567dd52e4 button.colab-df-convert');\n",
              "        buttonEl.style.display =\n",
              "          google.colab.kernel.accessAllowed ? 'block' : 'none';\n",
              "\n",
              "        async function convertToInteractive(key) {\n",
              "          const element = document.querySelector('#df-c43e1e17-5d6a-4fa7-baad-2f3567dd52e4');\n",
              "          const dataTable =\n",
              "            await google.colab.kernel.invokeFunction('convertToInteractive',\n",
              "                                                     [key], {});\n",
              "          if (!dataTable) return;\n",
              "\n",
              "          const docLinkHtml = 'Like what you see? Visit the ' +\n",
              "            '<a target=\"_blank\" href=https://colab.research.google.com/notebooks/data_table.ipynb>data table notebook</a>'\n",
              "            + ' to learn more about interactive tables.';\n",
              "          element.innerHTML = '';\n",
              "          dataTable['output_type'] = 'display_data';\n",
              "          await google.colab.output.renderOutput(dataTable, element);\n",
              "          const docLink = document.createElement('div');\n",
              "          docLink.innerHTML = docLinkHtml;\n",
              "          element.appendChild(docLink);\n",
              "        }\n",
              "      </script>\n",
              "    </div>\n",
              "  </div>\n",
              "  "
            ]
          },
          "metadata": {},
          "execution_count": 117
        }
      ]
    },
    {
      "cell_type": "code",
      "source": [
        "f1000_df.rank_change = f1000_df.rank_change.astype(int)\n",
        "f1000_df.profit = f1000_df.profit.astype(int)\n",
        "f1000_df.revenue = f1000_df.revenue.astype(int)\n",
        "f1000_df.empCount = f1000_df.empCount.astype(int)\n",
        "f1000_df.prev_rank = f1000_df.prev_rank.astype(int)\n",
        "# show the datatypes\n",
        "print(f1000_df.dtypes)"
      ],
      "metadata": {
        "colab": {
          "base_uri": "https://localhost:8080/"
        },
        "id": "MA9pV6DfgdMs",
        "outputId": "b75d5a03-80c8-4bb9-cf4a-51550de3e3ac"
      },
      "execution_count": 134,
      "outputs": [
        {
          "output_type": "stream",
          "name": "stdout",
          "text": [
            "company        object\n",
            "rank            int64\n",
            "rank_change     int64\n",
            "revenue         int64\n",
            "profit          int64\n",
            "empCount        int64\n",
            "sector         object\n",
            "city           object\n",
            "state          object\n",
            "newcomer       object\n",
            "ceo_founder    object\n",
            "ceo_woman      object\n",
            "profitable     object\n",
            "prev_rank       int64\n",
            "CEO            object\n",
            "Website        object\n",
            "Ticker         object\n",
            "MarketCap      object\n",
            "dtype: object\n"
          ]
        }
      ]
    },
    {
      "cell_type": "markdown",
      "source": [
        "# Visualization\n",
        " Presenting and Validating data using matplotlib"
      ],
      "metadata": {
        "id": "_cp3iMgawCsx"
      }
    },
    {
      "cell_type": "code",
      "source": [
        "# Mounting the drive\n",
        "from google.colab import drive\n",
        "drive.mount('/content/drive')"
      ],
      "metadata": {
        "colab": {
          "base_uri": "https://localhost:8080/"
        },
        "id": "PX8MwpmozIZu",
        "outputId": "cf7874d3-f168-43de-a096-b32e71abfc4a"
      },
      "execution_count": 191,
      "outputs": [
        {
          "output_type": "stream",
          "name": "stdout",
          "text": [
            "Drive already mounted at /content/drive; to attempt to forcibly remount, call drive.mount(\"/content/drive\", force_remount=True).\n"
          ]
        }
      ]
    },
    {
      "cell_type": "code",
      "source": [
        "# Reading the scraped Data\n",
        "df = pd.read_csv('Fortune_1000.csv')\n",
        "df.shape\n",
        "print(df)"
      ],
      "metadata": {
        "colab": {
          "base_uri": "https://localhost:8080/"
        },
        "id": "ozKz3JhIzbYd",
        "outputId": "ef3fdb44-bff8-4378-8b45-f2fb8794eaa0"
      },
      "execution_count": 192,
      "outputs": [
        {
          "output_type": "stream",
          "name": "stdout",
          "text": [
            "                company  rank  rank_change   revenue   profit  \\\n",
            "0               Walmart     1          0.0  572754.0  13673.0   \n",
            "1                Amazon     2          0.0  469822.0  33364.0   \n",
            "2                 Apple     3          0.0  365817.0  94680.0   \n",
            "3            CVS Health     4          0.0  292111.0   7910.0   \n",
            "4    UnitedHealth Group     5          0.0  287597.0  17285.0   \n",
            "..                  ...   ...          ...       ...      ...   \n",
            "995       Vizio Holding   996          0.0    2124.0    -39.4   \n",
            "996   1-800-Flowers.com   997          0.0    2122.2    118.7   \n",
            "997               Cowen   998          0.0    2112.8    295.6   \n",
            "998             Ashland   999          0.0    2111.0    220.0   \n",
            "999            DocuSign  1000          0.0    2107.2    -70.0   \n",
            "\n",
            "     num. of employees       sector           city state newcomer ceo_founder  \\\n",
            "0            2300000.0    Retailing    Bentonville    AR       no          no   \n",
            "1            1608000.0    Retailing        Seattle    WA       no          no   \n",
            "2             154000.0   Technology      Cupertino    CA       no          no   \n",
            "3             258000.0  Health Care     Woonsocket    RI       no          no   \n",
            "4             350000.0  Health Care     Minnetonka    MN       no          no   \n",
            "..                 ...          ...            ...   ...      ...         ...   \n",
            "995              800.0  Industrials         Irvine    CA       no         yes   \n",
            "996             4800.0    Retailing        Jericho    NY       no          no   \n",
            "997             1534.0   Financials       New York    NY       no          no   \n",
            "998             4100.0    Chemicals     Wilmington    DE       no          no   \n",
            "999             7461.0   Technology  San Francisco    CA       no          no   \n",
            "\n",
            "    ceo_woman profitable prev_rank                    CEO  \\\n",
            "0          no        yes       1.0    C. Douglas McMillon   \n",
            "1          no        yes       2.0        Andrew R. Jassy   \n",
            "2          no        yes       3.0        Timothy D. Cook   \n",
            "3         yes        yes       4.0            Karen Lynch   \n",
            "4          no        yes       5.0        Andrew P. Witty   \n",
            "..        ...        ...       ...                    ...   \n",
            "995        no         no                  William W. Wang   \n",
            "996        no        yes            Christopher G. McCann   \n",
            "997        no        yes                  Jeffrey Solomon   \n",
            "998        no        yes                   Guillermo Novo   \n",
            "999        no         no                Allan C. Thygesen   \n",
            "\n",
            "                           Website Ticker Market Cap  \n",
            "0    https://www.stock.walmart.com    WMT     352037  \n",
            "1                   www.amazon.com   AMZN    1202717  \n",
            "2                    www.apple.com   AAPL    2443962  \n",
            "3        https://www.cvshealth.com    CVS     125204  \n",
            "4        www.unitedhealthgroup.com    UNH     500468  \n",
            "..                             ...    ...        ...  \n",
            "995          https://www.vizio.com   VZIO     1705.1  \n",
            "996    https://www.1800flowers.com   FLWS        830  \n",
            "997          https://www.cowen.com   COWN       1078  \n",
            "998        https://www.ashland.com    ASH     5601.9  \n",
            "999       https://www.docusign.com   DOCU    21302.8  \n",
            "\n",
            "[1000 rows x 18 columns]\n"
          ]
        }
      ]
    },
    {
      "cell_type": "code",
      "source": [
        "df2 = df.groupby('sector')[['num. of employees']].mean().sort_values(['num. of employees'],ascending=False)\n",
        "df2.reset_index(inplace=True)\n",
        "plt.figure(figsize=(10,10))\n",
        "chart = sns.barplot(data = df2, x='sector', y='num. of employees')\n",
        "chart.set_xticklabels(chart.get_xticklabels(), rotation=90, horizontalalignment='right', fontweight='light')\n",
        "chart.axes.yaxis.label.set_text(\"num. of employees\")"
      ],
      "metadata": {
        "colab": {
          "base_uri": "https://localhost:8080/",
          "height": 743
        },
        "id": "zXv77ZZy0OXV",
        "outputId": "57484e9d-58b3-49b5-ce3c-ff55662fc6e8"
      },
      "execution_count": 193,
      "outputs": [
        {
          "output_type": "display_data",
          "data": {
            "text/plain": [
              "<Figure size 720x720 with 1 Axes>"
            ],
            "image/png": "[encoded data removed]"
          },
          "metadata": {
            "needs_background": "light"
          }
        }
      ]
    },
    {
      "cell_type": "code",
      "source": [
        "df2 = df.groupby('sector')[['revenue']].mean().sort_values(['revenue'],ascending=False)\n",
        "df2.reset_index(inplace=True)\n",
        "plt.figure(figsize=(10,10))\n",
        "chart = sns.barplot(data = df2, x='sector', y='revenue')\n",
        "chart.set_xticklabels(chart.get_xticklabels(), rotation=90, horizontalalignment='right', fontweight='light')\n",
        "chart.axes.yaxis.label.set_text(\"revenue\")"
      ],
      "metadata": {
        "colab": {
          "base_uri": "https://localhost:8080/",
          "height": 743
        },
        "id": "4h0ewN9E1YUh",
        "outputId": "a1cbbeee-977d-4ccd-9074-0b0039342d7c"
      },
      "execution_count": 194,
      "outputs": [
        {
          "output_type": "display_data",
          "data": {
            "text/plain": [
              "<Figure size 720x720 with 1 Axes>"
            ],
            "image/png": "[encoded data removed]"
          },
          "metadata": {
            "needs_background": "light"
          }
        }
      ]
    },
    {
      "cell_type": "code",
      "source": [
        "df2 = df.groupby('sector')[['profit']].mean().sort_values(['profit'],ascending=False)\n",
        "df2.reset_index(inplace=True)\n",
        "plt.figure(figsize=(10,10))\n",
        "chart = sns.barplot(data = df2, x='sector', y='profit')\n",
        "chart.set_xticklabels(chart.get_xticklabels(), rotation=90, horizontalalignment='right', fontweight='light')\n",
        "chart.axes.yaxis.label.set_text(\"profit\")"
      ],
      "metadata": {
        "colab": {
          "base_uri": "https://localhost:8080/",
          "height": 743
        },
        "id": "ECbk0bVa1m3X",
        "outputId": "a883b04c-34c1-4f8f-d111-188e04fc6647"
      },
      "execution_count": 195,
      "outputs": [
        {
          "output_type": "display_data",
          "data": {
            "text/plain": [
              "<Figure size 720x720 with 1 Axes>"
            ],
            "image/png": "[encoded data removed]"
          },
          "metadata": {
            "needs_background": "light"
          }
        }
      ]
    },
    {
      "cell_type": "code",
      "source": [
        "df2 = df.groupby('sector')[['profit']].mean().sort_values(['profit'],ascending=False)\n",
        "df2.reset_index(inplace=True)\n",
        "plt.figure(figsize=(15,15))\n",
        "plt.pie(df2[\"profit\"], labels = df2[\"sector\"])\n",
        "plt.show()\n"
      ],
      "metadata": {
        "colab": {
          "base_uri": "https://localhost:8080/",
          "height": 846
        },
        "id": "Q7EJiuKJ-Ymv",
        "outputId": "1a61f378-6619-4763-d3b5-7970cd462686"
      },
      "execution_count": 196,
      "outputs": [
        {
          "output_type": "display_data",
          "data": {
            "text/plain": [
              "<Figure size 1080x1080 with 1 Axes>"
            ],
            "image/png": "[encoded data removed]"
          },
          "metadata": {}
        }
      ]
    },
    {
      "cell_type": "code",
      "source": [
        "df2 = df.groupby('sector')[['rank']].mean().sort_values(['rank'],ascending=False)\n",
        "df2.reset_index(inplace=True)\n",
        "plt.figure(figsize=(15,15))\n",
        "plt.pie(df2[\"rank\"], labels = df2[\"sector\"])\n",
        "plt.show()"
      ],
      "metadata": {
        "colab": {
          "base_uri": "https://localhost:8080/",
          "height": 846
        },
        "id": "5GCEBeSUAYiV",
        "outputId": "cc4f275c-01b6-46bc-e7d8-e36ff5c05b1c"
      },
      "execution_count": 197,
      "outputs": [
        {
          "output_type": "display_data",
          "data": {
            "text/plain": [
              "<Figure size 1080x1080 with 1 Axes>"
            ],
            "image/png": "[encoded data removed]"
          },
          "metadata": {}
        }
      ]
    },
    {
      "cell_type": "markdown",
      "source": [
        "#Auditing\n",
        "Clearing data and creating csv to move data to SQL Database"
      ],
      "metadata": {
        "id": "RJHzLP2i_2RC"
      }
    },
    {
      "cell_type": "code",
      "source": [
        "# Mounting the drive\n",
        "from google.colab import drive\n",
        "drive.mount('/content/drive')"
      ],
      "metadata": {
        "colab": {
          "base_uri": "https://localhost:8080/"
        },
        "id": "q-qjvk1M_9n8",
        "outputId": "a150b2f3-5057-4b3f-f922-362d5eba8ee1"
      },
      "execution_count": 200,
      "outputs": [
        {
          "output_type": "stream",
          "name": "stdout",
          "text": [
            "Drive already mounted at /content/drive; to attempt to forcibly remount, call drive.mount(\"/content/drive\", force_remount=True).\n"
          ]
        }
      ]
    },
    {
      "cell_type": "code",
      "source": [
        "# Reading the scraped Data\n",
        "df = pd.read_csv('Fortune_1000.csv')\n",
        "df = df.replace(np.nan, 'NULL')"
      ],
      "metadata": {
        "id": "87jfbBDmDE4P"
      },
      "execution_count": 206,
      "outputs": []
    },
    {
      "cell_type": "code",
      "source": [
        "list_company = df['company'].to_list()\n",
        "list_rank = df['rank'].to_list()\n",
        "list_rank_change = df['rank_change'].to_list()\n",
        "list_revenue = df['revenue'].to_list()\n",
        "list_profit = df['profit'].to_list()\n",
        "list_empCount = df['num. of employees'].to_list()\n",
        "list_sector = df['sector'].to_list()\n",
        "list_city  = df['city'].to_list()\n",
        "list_state  = df['state'].to_list()\n",
        "list_newcomer = df['newcomer'].to_list()\n",
        "list_ceo_founder = df['ceo_founder'].to_list()\n",
        "list_ceo_woman = df['ceo_woman'].to_list()\n",
        "list_profitable = df['profitable'].to_list()\n",
        "list_prev_rank = df['prev_rank'].to_list()\n",
        "list_CEO = df['CEO'].to_list()\n",
        "list_Website  = df['Website'].to_list()\n",
        "list_Ticker  = df['Ticker'].to_list()\n",
        "list_Market_Cap = df['Market Cap'].to_list()\n",
        "database1 = {'company':list_company, 'rank':list_rank, 'rank_change':list_rank_change, \n",
        "             'revenue':list_revenue, 'profit':list_profit, 'empcount':list_empCount,'sector':list_sector, \n",
        "             'city':list_city, 'state': list_state} \n",
        "database2 = {'company':list_company,'newcomer':list_newcomer, 'ceo_founder':list_ceo_founder, \n",
        "             'ceo_woman':list_ceo_woman, 'profitable':list_profitable, \n",
        "             'prev_rank':list_prev_rank, 'CEO':list_CEO,'Website':list_Website, \n",
        "             'Ticker':list_Ticker, 'Market_Cap': list_Market_Cap} "
      ],
      "metadata": {
        "id": "niLyAlTJBqSg"
      },
      "execution_count": 216,
      "outputs": []
    },
    {
      "cell_type": "code",
      "source": [
        "df1=pd.DataFrame(database1)\n",
        "df1.to_csv('Database1.csv', index=False)\n",
        "df2=pd.DataFrame(database2)\n",
        "df2.to_csv('Database2.csv', index=False)"
      ],
      "metadata": {
        "id": "qDvgpQLyLaO_"
      },
      "execution_count": 224,
      "outputs": []
    }
  ],
  "metadata": {
    "colab": {
      "provenance": []
    },
    "kernelspec": {
      "display_name": "Python 3",
      "language": "python",
      "name": "python3"
    },
    "language_info": {
      "codemirror_mode": {
        "name": "ipython",
        "version": 3
      },
      "file_extension": ".py",
      "mimetype": "text/x-python",
      "name": "python",
      "nbconvert_exporter": "python",
      "pygments_lexer": "ipython3",
      "version": "3.7.9"
    },
    "papermill": {
      "default_parameters": {},
      "duration": 1431.342497,
      "end_time": "2022-11-04T01:54:47.227260",
      "environment_variables": {},
      "exception": null,
      "input_path": "__notebook__.ipynb",
      "output_path": "__notebook__.ipynb",
      "parameters": {},
      "start_time": "2022-11-04T01:30:55.884763",
      "version": "2.2.2"
    }
  },
  "nbformat": 4,
  "nbformat_minor": 0
}